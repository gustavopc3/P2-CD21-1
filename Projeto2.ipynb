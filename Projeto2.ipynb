{
 "cells": [
  {
   "cell_type": "markdown",
   "metadata": {},
   "source": [
    "# Projeto 2 - Ciência dos Dados"
   ]
  },
  {
   "cell_type": "markdown",
   "metadata": {},
   "source": [
    "## Engenharia 2A\n",
    "\n",
    "\n",
    "### Gustavo Pinheiro de Carvalho\n",
    "### Celina Vieira de Melo\n",
    "### Gabriel Penna de Lima\n",
    "### Maria Eduarda Mourão"
   ]
  },
  {
   "cell_type": "raw",
   "metadata": {},
   "source": [
    "ANÁLISE DE VARIÁVEIS\n",
    "\n",
    "REGRESSÃO LINEAR:\n",
    "\n",
    "- Explicar o porque dos 4 gráficos diferentes (masculino, feminino, maior e menor de 28 anos)\n",
    "- Explicar o modelo;\n",
    "- Probplot;\n",
    "- Gráfico dos resíduos;\n",
    "- R-squared e outros testes da aula 24;\n",
    "\n",
    "DECISION TREE:\n",
    "\n",
    "- Explicar o modelo;\n",
    "- Fazer o modelo;\n",
    "- Validação da performance;\n",
    "- Valores Reais X Valores Preditos\n",
    "- Probplot\n",
    "- Gráfico dos resíduos\n",
    "\n",
    "CONCLUSÃO\n",
    "\n",
    "REFERÊNCIAS"
   ]
  },
  {
   "cell_type": "markdown",
   "metadata": {},
   "source": [
    "# Descrição do projeto"
   ]
  },
  {
   "cell_type": "markdown",
   "metadata": {},
   "source": [
    "   No projeto 2 da disciplina Ciência dos Dados do segundo semestre de Engenharia do Insper, foi pedido que descrevêssemos o processo de análise de um dataset a fim de prever uma variável principal (TARGET) em função de demais outras variáveis que poderiam influenciar o seu comportamento (FEATURES). Dessa forma, seriamos capazes de prever rótulos ou informações numéricas para a variável target escolhida a partir de técnicas de classificação, como regressão linear, decision tree, random forest, entre outras.\n",
    "\n",
    "Para isso, decidimos abordar um tema bastante atual, que engloba o momento que estamos vivendo em relação a pandemia e a importância da prática de atividades físicas para o bem estar, principalmente durante esse momento tão difícil. Estudos no mundo inteiro vem demonstrando que 30 minutos de atividades físicas diárias de forma moderada, equivalentes a uma caminhada mais vigorosa, realizar 150 minutos semanais de exercícios físicos aeróbicos moderados ou 75 minutos semanais de exercícios mais vigorosos, tornam a vida da pessoa mais saudável [1].\n",
    "\n",
    "Dessa forma, tivemos a ideia de fazer uma análise do comportamento da população em relação a atividades físicas durante a pandemia do Coronavírus, visto que os órgãos reguladores tiveram que criar inúmeras restrições ao estilo de vida da população para conter a disseminação do vírus e que esse tema se tornou ainda mais significante para combater os efeitos da pandemia sobre o bem estar e a saúde mental das pessoas.\n",
    "\n",
    "Segundo recomendações da Organização Mundial da Saúde (OMS), crianças e jovens menores de 17 anos devem realizar 60 minutos de atividades físicas diárias com média a alta intensidade aeróbica. Para maiores de 17 anos, é recomendada a realização de pelo menos 75 minutos de exercício físico adultos e [2]. \n",
    "\n",
    "Queriamos avaliar a frequência de exercícios semanais que as pessoas estavam realizando durante a pandemia, e por não existir um dataset que já nos fornecesse, decidimos realizar um Google Forms com diversas perguntas relacionadas ao tema e as informações de cada um dos participantes. Dessa forma, nos baseamos em recomendações de especialistas da área da saúde para definir a frequência semanal recomendada de atividades físicas que uma pessoa deve ter para ter uma melhor qualidade de vida e uma saúde melhor.\n",
    "\n",
    "Para isso, decidimos avaliar o comportamento da população em relação a atividades físicas durante a pandemia do Coronavírus, visto que os órgãos reguladores tiveram que criar inúmeras restrições ao estilo de vida da população para conter a disseminação do vírus."
   ]
  },
  {
   "cell_type": "markdown",
   "metadata": {},
   "source": [
    "Nesse projeto, devemos realizar a predição de uma variável principal, chamada de variável TARGET, em função de outras variáveis, chamadas de FEATURES, que podem influenciar em seu comportamento."
   ]
  },
  {
   "cell_type": "markdown",
   "metadata": {},
   "source": [
    "Para o desenvolvimento da nossa base de dados, criamos um Google Forms com algumas perguntas que nos ajudariam a desenvolver a análise da variável principal. \n",
    "\n",
    "Decidimos pegar informações básicas para conseguir um maior número de adeptos a pesquisa, pois acreditamos que quando o formulário é muito extenso e demanda muito tempo para ser preenchido, alguns participantes acabam desistindo.\n",
    "\n",
    "Dessa forma, chegamos a nossa base de dados:"
   ]
  },
  {
   "cell_type": "markdown",
   "metadata": {},
   "source": [
    "# <font color='blue'>Base de Dados: Pesquisa sobre a prática de atividades físicas</font> \n",
    "\n",
    "   A base de dados `\"Pesquisa.xlsx\"` agrupa todas as respostas dos participantes da pesquisa que realizamos, de forma que nela consta: \n",
    "\n",
    "\n",
    "Variável | Descrição\n",
    ":---:|---:\n",
    "Carimbo de data/hora| \n",
    "Nome | Nome do participante (opcional)\n",
    "Idade | Idade do participante (em anos)\n",
    "Sexo | Masculino ou Feminino\n",
    "Ativa | Você se considera uma pessoa fisicamente ativa?\n",
    "Minutos | Quantos MINUTOS de atividade física você faz durante a SEMANA?\n",
    "Influenciou| A pandemia influenciou a sua prática de atividades físicas?\n",
    "Superar| O que você fez para superar as barreiras que a pandemia impôs a prática de atividades físicas?\n",
    "Vontade| Você sente a vontade de realizar atividades físicas em maior frequência?\n"
   ]
  },
  {
   "cell_type": "markdown",
   "metadata": {},
   "source": [
    "## Análise dos dados"
   ]
  },
  {
   "cell_type": "code",
   "execution_count": 77,
   "metadata": {},
   "outputs": [],
   "source": [
    "%matplotlib inline\n",
    "import pandas as pd\n",
    "import os\n",
    "import matplotlib.pyplot as plt\n",
    "import seaborn as sns\n",
    "import numpy as np\n",
    "import statsmodels.api as sm\n",
    "from mpl_toolkits.mplot3d import Axes3D\n",
    "\n",
    "from scipy import stats"
   ]
  },
  {
   "cell_type": "code",
   "execution_count": 6,
   "metadata": {},
   "outputs": [
    {
     "name": "stdout",
     "output_type": "stream",
     "text": [
      "C:\\Users\\gabri\\P2-CD21-1\n"
     ]
    }
   ],
   "source": [
    "print(os.getcwd())"
   ]
  },
  {
   "cell_type": "code",
   "execution_count": 7,
   "metadata": {
    "scrolled": true
   },
   "outputs": [
    {
     "data": {
      "text/html": [
       "<div>\n",
       "<style scoped>\n",
       "    .dataframe tbody tr th:only-of-type {\n",
       "        vertical-align: middle;\n",
       "    }\n",
       "\n",
       "    .dataframe tbody tr th {\n",
       "        vertical-align: top;\n",
       "    }\n",
       "\n",
       "    .dataframe thead th {\n",
       "        text-align: right;\n",
       "    }\n",
       "</style>\n",
       "<table border=\"1\" class=\"dataframe\">\n",
       "  <thead>\n",
       "    <tr style=\"text-align: right;\">\n",
       "      <th></th>\n",
       "      <th>Carimbo de data/hora</th>\n",
       "      <th>Nome\\n</th>\n",
       "      <th>Idade</th>\n",
       "      <th>Sexo</th>\n",
       "      <th>Ativa</th>\n",
       "      <th>Minutos</th>\n",
       "      <th>Influenciou</th>\n",
       "      <th>Superar</th>\n",
       "      <th>Vontade</th>\n",
       "    </tr>\n",
       "  </thead>\n",
       "  <tbody>\n",
       "    <tr>\n",
       "      <th>0</th>\n",
       "      <td>2021-05-20 10:15:08.814</td>\n",
       "      <td>Gabrielle</td>\n",
       "      <td>18</td>\n",
       "      <td>Feminino</td>\n",
       "      <td>Não</td>\n",
       "      <td>70</td>\n",
       "      <td>Sim</td>\n",
       "      <td>Comecei a fazer exercícios em casa</td>\n",
       "      <td>Talvez</td>\n",
       "    </tr>\n",
       "    <tr>\n",
       "      <th>1</th>\n",
       "      <td>2021-05-20 10:15:47.122</td>\n",
       "      <td>Felipe Defendi</td>\n",
       "      <td>17</td>\n",
       "      <td>Masculino</td>\n",
       "      <td>Talvez</td>\n",
       "      <td>30</td>\n",
       "      <td>Não</td>\n",
       "      <td>Outros</td>\n",
       "      <td>Sim</td>\n",
       "    </tr>\n",
       "    <tr>\n",
       "      <th>2</th>\n",
       "      <td>2021-05-20 10:18:40.453</td>\n",
       "      <td>Davi Bonsi</td>\n",
       "      <td>18</td>\n",
       "      <td>Masculino</td>\n",
       "      <td>Sim</td>\n",
       "      <td>300</td>\n",
       "      <td>Sim</td>\n",
       "      <td>Fiquei dependente à reabertura das academias</td>\n",
       "      <td>Sim</td>\n",
       "    </tr>\n",
       "    <tr>\n",
       "      <th>3</th>\n",
       "      <td>2021-05-20 10:20:29.293</td>\n",
       "      <td>Isabela Domingues</td>\n",
       "      <td>17</td>\n",
       "      <td>Feminino</td>\n",
       "      <td>Não</td>\n",
       "      <td>120</td>\n",
       "      <td>Sim</td>\n",
       "      <td>Comecei a fazer exercícios em casa</td>\n",
       "      <td>Sim</td>\n",
       "    </tr>\n",
       "    <tr>\n",
       "      <th>4</th>\n",
       "      <td>2021-05-20 10:20:57.775</td>\n",
       "      <td>Paola Gragnolati Fernandes</td>\n",
       "      <td>18</td>\n",
       "      <td>Feminino</td>\n",
       "      <td>Talvez</td>\n",
       "      <td>140</td>\n",
       "      <td>Sim</td>\n",
       "      <td>Comecei a fazer exercícios em casa</td>\n",
       "      <td>Não</td>\n",
       "    </tr>\n",
       "    <tr>\n",
       "      <th>...</th>\n",
       "      <td>...</td>\n",
       "      <td>...</td>\n",
       "      <td>...</td>\n",
       "      <td>...</td>\n",
       "      <td>...</td>\n",
       "      <td>...</td>\n",
       "      <td>...</td>\n",
       "      <td>...</td>\n",
       "      <td>...</td>\n",
       "    </tr>\n",
       "    <tr>\n",
       "      <th>165</th>\n",
       "      <td>2021-05-21 10:41:20.303</td>\n",
       "      <td>Zuleika Syudart de lucena feitosa</td>\n",
       "      <td>56</td>\n",
       "      <td>Feminino</td>\n",
       "      <td>Sim</td>\n",
       "      <td>360</td>\n",
       "      <td>Sim</td>\n",
       "      <td>Comecei a fazer exercícios em casa</td>\n",
       "      <td>Sim</td>\n",
       "    </tr>\n",
       "    <tr>\n",
       "      <th>166</th>\n",
       "      <td>2021-05-21 10:51:12.881</td>\n",
       "      <td>Daniela</td>\n",
       "      <td>19</td>\n",
       "      <td>Feminino</td>\n",
       "      <td>Sim</td>\n",
       "      <td>200</td>\n",
       "      <td>Sim</td>\n",
       "      <td>Comecei a fazer exercícios em casa</td>\n",
       "      <td>Sim</td>\n",
       "    </tr>\n",
       "    <tr>\n",
       "      <th>167</th>\n",
       "      <td>2021-05-21 13:07:05.650</td>\n",
       "      <td>Ticiana Hissa</td>\n",
       "      <td>43</td>\n",
       "      <td>Feminino</td>\n",
       "      <td>Sim</td>\n",
       "      <td>3000</td>\n",
       "      <td>Não</td>\n",
       "      <td>Comecei a fazer exercícios em casa</td>\n",
       "      <td>Não</td>\n",
       "    </tr>\n",
       "    <tr>\n",
       "      <th>168</th>\n",
       "      <td>2021-05-21 13:14:57.503</td>\n",
       "      <td>NaN</td>\n",
       "      <td>43</td>\n",
       "      <td>Masculino</td>\n",
       "      <td>Sim</td>\n",
       "      <td>360</td>\n",
       "      <td>Sim</td>\n",
       "      <td>Comecei a fazer exercícios em casa</td>\n",
       "      <td>Sim</td>\n",
       "    </tr>\n",
       "    <tr>\n",
       "      <th>169</th>\n",
       "      <td>2021-05-21 14:50:15.148</td>\n",
       "      <td>Marcia</td>\n",
       "      <td>58</td>\n",
       "      <td>Feminino</td>\n",
       "      <td>Sim</td>\n",
       "      <td>6</td>\n",
       "      <td>Não</td>\n",
       "      <td>Comecei a fazer exercícios em casa</td>\n",
       "      <td>Sim</td>\n",
       "    </tr>\n",
       "  </tbody>\n",
       "</table>\n",
       "<p>170 rows × 9 columns</p>\n",
       "</div>"
      ],
      "text/plain": [
       "       Carimbo de data/hora                             Nome\\n  Idade  \\\n",
       "0   2021-05-20 10:15:08.814                          Gabrielle     18   \n",
       "1   2021-05-20 10:15:47.122                     Felipe Defendi     17   \n",
       "2   2021-05-20 10:18:40.453                         Davi Bonsi     18   \n",
       "3   2021-05-20 10:20:29.293                  Isabela Domingues     17   \n",
       "4   2021-05-20 10:20:57.775         Paola Gragnolati Fernandes     18   \n",
       "..                      ...                                ...    ...   \n",
       "165 2021-05-21 10:41:20.303  Zuleika Syudart de lucena feitosa     56   \n",
       "166 2021-05-21 10:51:12.881                            Daniela     19   \n",
       "167 2021-05-21 13:07:05.650                      Ticiana Hissa     43   \n",
       "168 2021-05-21 13:14:57.503                                NaN     43   \n",
       "169 2021-05-21 14:50:15.148                             Marcia     58   \n",
       "\n",
       "          Sexo   Ativa  Minutos Influenciou  \\\n",
       "0     Feminino     Não       70         Sim   \n",
       "1    Masculino  Talvez       30         Não   \n",
       "2    Masculino     Sim      300         Sim   \n",
       "3     Feminino     Não      120         Sim   \n",
       "4     Feminino  Talvez      140         Sim   \n",
       "..         ...     ...      ...         ...   \n",
       "165   Feminino     Sim      360         Sim   \n",
       "166   Feminino     Sim      200         Sim   \n",
       "167   Feminino     Sim     3000         Não   \n",
       "168  Masculino     Sim      360         Sim   \n",
       "169   Feminino     Sim        6         Não   \n",
       "\n",
       "                                          Superar Vontade  \n",
       "0              Comecei a fazer exercícios em casa  Talvez  \n",
       "1                                          Outros     Sim  \n",
       "2    Fiquei dependente à reabertura das academias     Sim  \n",
       "3              Comecei a fazer exercícios em casa     Sim  \n",
       "4              Comecei a fazer exercícios em casa     Não  \n",
       "..                                            ...     ...  \n",
       "165            Comecei a fazer exercícios em casa     Sim  \n",
       "166            Comecei a fazer exercícios em casa     Sim  \n",
       "167            Comecei a fazer exercícios em casa     Não  \n",
       "168            Comecei a fazer exercícios em casa     Sim  \n",
       "169            Comecei a fazer exercícios em casa     Sim  \n",
       "\n",
       "[170 rows x 9 columns]"
      ]
     },
     "execution_count": 7,
     "metadata": {},
     "output_type": "execute_result"
    }
   ],
   "source": [
    "dados = pd.read_excel('Pesquisa.xlsx')\n",
    "dados"
   ]
  },
  {
   "cell_type": "markdown",
   "metadata": {},
   "source": [
    "### Carimbo de data/hora"
   ]
  },
  {
   "cell_type": "markdown",
   "metadata": {},
   "source": [
    "Para a análise do nosso problema, julgamos que essa coluna não possui nenhuma relação com o objetivo que estamos buscando, portanto, resolvemos tira-lá."
   ]
  },
  {
   "cell_type": "code",
   "execution_count": 8,
   "metadata": {
    "scrolled": true
   },
   "outputs": [
    {
     "data": {
      "text/html": [
       "<div>\n",
       "<style scoped>\n",
       "    .dataframe tbody tr th:only-of-type {\n",
       "        vertical-align: middle;\n",
       "    }\n",
       "\n",
       "    .dataframe tbody tr th {\n",
       "        vertical-align: top;\n",
       "    }\n",
       "\n",
       "    .dataframe thead th {\n",
       "        text-align: right;\n",
       "    }\n",
       "</style>\n",
       "<table border=\"1\" class=\"dataframe\">\n",
       "  <thead>\n",
       "    <tr style=\"text-align: right;\">\n",
       "      <th></th>\n",
       "      <th>Nome\\n</th>\n",
       "      <th>Idade</th>\n",
       "      <th>Sexo</th>\n",
       "      <th>Ativa</th>\n",
       "      <th>Minutos</th>\n",
       "      <th>Influenciou</th>\n",
       "      <th>Superar</th>\n",
       "      <th>Vontade</th>\n",
       "    </tr>\n",
       "  </thead>\n",
       "  <tbody>\n",
       "    <tr>\n",
       "      <th>0</th>\n",
       "      <td>Gabrielle</td>\n",
       "      <td>18</td>\n",
       "      <td>Feminino</td>\n",
       "      <td>Não</td>\n",
       "      <td>70</td>\n",
       "      <td>Sim</td>\n",
       "      <td>Comecei a fazer exercícios em casa</td>\n",
       "      <td>Talvez</td>\n",
       "    </tr>\n",
       "    <tr>\n",
       "      <th>1</th>\n",
       "      <td>Felipe Defendi</td>\n",
       "      <td>17</td>\n",
       "      <td>Masculino</td>\n",
       "      <td>Talvez</td>\n",
       "      <td>30</td>\n",
       "      <td>Não</td>\n",
       "      <td>Outros</td>\n",
       "      <td>Sim</td>\n",
       "    </tr>\n",
       "    <tr>\n",
       "      <th>2</th>\n",
       "      <td>Davi Bonsi</td>\n",
       "      <td>18</td>\n",
       "      <td>Masculino</td>\n",
       "      <td>Sim</td>\n",
       "      <td>300</td>\n",
       "      <td>Sim</td>\n",
       "      <td>Fiquei dependente à reabertura das academias</td>\n",
       "      <td>Sim</td>\n",
       "    </tr>\n",
       "    <tr>\n",
       "      <th>3</th>\n",
       "      <td>Isabela Domingues</td>\n",
       "      <td>17</td>\n",
       "      <td>Feminino</td>\n",
       "      <td>Não</td>\n",
       "      <td>120</td>\n",
       "      <td>Sim</td>\n",
       "      <td>Comecei a fazer exercícios em casa</td>\n",
       "      <td>Sim</td>\n",
       "    </tr>\n",
       "    <tr>\n",
       "      <th>4</th>\n",
       "      <td>Paola Gragnolati Fernandes</td>\n",
       "      <td>18</td>\n",
       "      <td>Feminino</td>\n",
       "      <td>Talvez</td>\n",
       "      <td>140</td>\n",
       "      <td>Sim</td>\n",
       "      <td>Comecei a fazer exercícios em casa</td>\n",
       "      <td>Não</td>\n",
       "    </tr>\n",
       "    <tr>\n",
       "      <th>...</th>\n",
       "      <td>...</td>\n",
       "      <td>...</td>\n",
       "      <td>...</td>\n",
       "      <td>...</td>\n",
       "      <td>...</td>\n",
       "      <td>...</td>\n",
       "      <td>...</td>\n",
       "      <td>...</td>\n",
       "    </tr>\n",
       "    <tr>\n",
       "      <th>165</th>\n",
       "      <td>Zuleika Syudart de lucena feitosa</td>\n",
       "      <td>56</td>\n",
       "      <td>Feminino</td>\n",
       "      <td>Sim</td>\n",
       "      <td>360</td>\n",
       "      <td>Sim</td>\n",
       "      <td>Comecei a fazer exercícios em casa</td>\n",
       "      <td>Sim</td>\n",
       "    </tr>\n",
       "    <tr>\n",
       "      <th>166</th>\n",
       "      <td>Daniela</td>\n",
       "      <td>19</td>\n",
       "      <td>Feminino</td>\n",
       "      <td>Sim</td>\n",
       "      <td>200</td>\n",
       "      <td>Sim</td>\n",
       "      <td>Comecei a fazer exercícios em casa</td>\n",
       "      <td>Sim</td>\n",
       "    </tr>\n",
       "    <tr>\n",
       "      <th>167</th>\n",
       "      <td>Ticiana Hissa</td>\n",
       "      <td>43</td>\n",
       "      <td>Feminino</td>\n",
       "      <td>Sim</td>\n",
       "      <td>3000</td>\n",
       "      <td>Não</td>\n",
       "      <td>Comecei a fazer exercícios em casa</td>\n",
       "      <td>Não</td>\n",
       "    </tr>\n",
       "    <tr>\n",
       "      <th>168</th>\n",
       "      <td>NaN</td>\n",
       "      <td>43</td>\n",
       "      <td>Masculino</td>\n",
       "      <td>Sim</td>\n",
       "      <td>360</td>\n",
       "      <td>Sim</td>\n",
       "      <td>Comecei a fazer exercícios em casa</td>\n",
       "      <td>Sim</td>\n",
       "    </tr>\n",
       "    <tr>\n",
       "      <th>169</th>\n",
       "      <td>Marcia</td>\n",
       "      <td>58</td>\n",
       "      <td>Feminino</td>\n",
       "      <td>Sim</td>\n",
       "      <td>6</td>\n",
       "      <td>Não</td>\n",
       "      <td>Comecei a fazer exercícios em casa</td>\n",
       "      <td>Sim</td>\n",
       "    </tr>\n",
       "  </tbody>\n",
       "</table>\n",
       "<p>170 rows × 8 columns</p>\n",
       "</div>"
      ],
      "text/plain": [
       "                                Nome\\n  Idade       Sexo   Ativa  Minutos  \\\n",
       "0                            Gabrielle     18   Feminino     Não       70   \n",
       "1                       Felipe Defendi     17  Masculino  Talvez       30   \n",
       "2                           Davi Bonsi     18  Masculino     Sim      300   \n",
       "3                    Isabela Domingues     17   Feminino     Não      120   \n",
       "4           Paola Gragnolati Fernandes     18   Feminino  Talvez      140   \n",
       "..                                 ...    ...        ...     ...      ...   \n",
       "165  Zuleika Syudart de lucena feitosa     56   Feminino     Sim      360   \n",
       "166                            Daniela     19   Feminino     Sim      200   \n",
       "167                      Ticiana Hissa     43   Feminino     Sim     3000   \n",
       "168                                NaN     43  Masculino     Sim      360   \n",
       "169                             Marcia     58   Feminino     Sim        6   \n",
       "\n",
       "    Influenciou                                       Superar Vontade  \n",
       "0           Sim            Comecei a fazer exercícios em casa  Talvez  \n",
       "1           Não                                        Outros     Sim  \n",
       "2           Sim  Fiquei dependente à reabertura das academias     Sim  \n",
       "3           Sim            Comecei a fazer exercícios em casa     Sim  \n",
       "4           Sim            Comecei a fazer exercícios em casa     Não  \n",
       "..          ...                                           ...     ...  \n",
       "165         Sim            Comecei a fazer exercícios em casa     Sim  \n",
       "166         Sim            Comecei a fazer exercícios em casa     Sim  \n",
       "167         Não            Comecei a fazer exercícios em casa     Não  \n",
       "168         Sim            Comecei a fazer exercícios em casa     Sim  \n",
       "169         Não            Comecei a fazer exercícios em casa     Sim  \n",
       "\n",
       "[170 rows x 8 columns]"
      ]
     },
     "execution_count": 8,
     "metadata": {},
     "output_type": "execute_result"
    }
   ],
   "source": [
    "dados = dados.drop(columns=['Carimbo de data/hora'])\n",
    "dados"
   ]
  },
  {
   "cell_type": "markdown",
   "metadata": {},
   "source": [
    "### Nome"
   ]
  },
  {
   "cell_type": "markdown",
   "metadata": {},
   "source": [
    "Para a análise do nosso problema, julgamos que essa coluna não possui nenhuma relação com o objetivo que estamos buscando, portanto, resolvemos tira-lá."
   ]
  },
  {
   "cell_type": "code",
   "execution_count": 9,
   "metadata": {},
   "outputs": [
    {
     "data": {
      "text/html": [
       "<div>\n",
       "<style scoped>\n",
       "    .dataframe tbody tr th:only-of-type {\n",
       "        vertical-align: middle;\n",
       "    }\n",
       "\n",
       "    .dataframe tbody tr th {\n",
       "        vertical-align: top;\n",
       "    }\n",
       "\n",
       "    .dataframe thead th {\n",
       "        text-align: right;\n",
       "    }\n",
       "</style>\n",
       "<table border=\"1\" class=\"dataframe\">\n",
       "  <thead>\n",
       "    <tr style=\"text-align: right;\">\n",
       "      <th></th>\n",
       "      <th>Idade</th>\n",
       "      <th>Sexo</th>\n",
       "      <th>Ativa</th>\n",
       "      <th>Minutos</th>\n",
       "      <th>Influenciou</th>\n",
       "      <th>Superar</th>\n",
       "      <th>Vontade</th>\n",
       "    </tr>\n",
       "  </thead>\n",
       "  <tbody>\n",
       "    <tr>\n",
       "      <th>0</th>\n",
       "      <td>18</td>\n",
       "      <td>Feminino</td>\n",
       "      <td>Não</td>\n",
       "      <td>70</td>\n",
       "      <td>Sim</td>\n",
       "      <td>Comecei a fazer exercícios em casa</td>\n",
       "      <td>Talvez</td>\n",
       "    </tr>\n",
       "    <tr>\n",
       "      <th>1</th>\n",
       "      <td>17</td>\n",
       "      <td>Masculino</td>\n",
       "      <td>Talvez</td>\n",
       "      <td>30</td>\n",
       "      <td>Não</td>\n",
       "      <td>Outros</td>\n",
       "      <td>Sim</td>\n",
       "    </tr>\n",
       "    <tr>\n",
       "      <th>2</th>\n",
       "      <td>18</td>\n",
       "      <td>Masculino</td>\n",
       "      <td>Sim</td>\n",
       "      <td>300</td>\n",
       "      <td>Sim</td>\n",
       "      <td>Fiquei dependente à reabertura das academias</td>\n",
       "      <td>Sim</td>\n",
       "    </tr>\n",
       "    <tr>\n",
       "      <th>3</th>\n",
       "      <td>17</td>\n",
       "      <td>Feminino</td>\n",
       "      <td>Não</td>\n",
       "      <td>120</td>\n",
       "      <td>Sim</td>\n",
       "      <td>Comecei a fazer exercícios em casa</td>\n",
       "      <td>Sim</td>\n",
       "    </tr>\n",
       "    <tr>\n",
       "      <th>4</th>\n",
       "      <td>18</td>\n",
       "      <td>Feminino</td>\n",
       "      <td>Talvez</td>\n",
       "      <td>140</td>\n",
       "      <td>Sim</td>\n",
       "      <td>Comecei a fazer exercícios em casa</td>\n",
       "      <td>Não</td>\n",
       "    </tr>\n",
       "    <tr>\n",
       "      <th>...</th>\n",
       "      <td>...</td>\n",
       "      <td>...</td>\n",
       "      <td>...</td>\n",
       "      <td>...</td>\n",
       "      <td>...</td>\n",
       "      <td>...</td>\n",
       "      <td>...</td>\n",
       "    </tr>\n",
       "    <tr>\n",
       "      <th>165</th>\n",
       "      <td>56</td>\n",
       "      <td>Feminino</td>\n",
       "      <td>Sim</td>\n",
       "      <td>360</td>\n",
       "      <td>Sim</td>\n",
       "      <td>Comecei a fazer exercícios em casa</td>\n",
       "      <td>Sim</td>\n",
       "    </tr>\n",
       "    <tr>\n",
       "      <th>166</th>\n",
       "      <td>19</td>\n",
       "      <td>Feminino</td>\n",
       "      <td>Sim</td>\n",
       "      <td>200</td>\n",
       "      <td>Sim</td>\n",
       "      <td>Comecei a fazer exercícios em casa</td>\n",
       "      <td>Sim</td>\n",
       "    </tr>\n",
       "    <tr>\n",
       "      <th>167</th>\n",
       "      <td>43</td>\n",
       "      <td>Feminino</td>\n",
       "      <td>Sim</td>\n",
       "      <td>3000</td>\n",
       "      <td>Não</td>\n",
       "      <td>Comecei a fazer exercícios em casa</td>\n",
       "      <td>Não</td>\n",
       "    </tr>\n",
       "    <tr>\n",
       "      <th>168</th>\n",
       "      <td>43</td>\n",
       "      <td>Masculino</td>\n",
       "      <td>Sim</td>\n",
       "      <td>360</td>\n",
       "      <td>Sim</td>\n",
       "      <td>Comecei a fazer exercícios em casa</td>\n",
       "      <td>Sim</td>\n",
       "    </tr>\n",
       "    <tr>\n",
       "      <th>169</th>\n",
       "      <td>58</td>\n",
       "      <td>Feminino</td>\n",
       "      <td>Sim</td>\n",
       "      <td>6</td>\n",
       "      <td>Não</td>\n",
       "      <td>Comecei a fazer exercícios em casa</td>\n",
       "      <td>Sim</td>\n",
       "    </tr>\n",
       "  </tbody>\n",
       "</table>\n",
       "<p>170 rows × 7 columns</p>\n",
       "</div>"
      ],
      "text/plain": [
       "     Idade       Sexo   Ativa  Minutos Influenciou  \\\n",
       "0       18   Feminino     Não       70         Sim   \n",
       "1       17  Masculino  Talvez       30         Não   \n",
       "2       18  Masculino     Sim      300         Sim   \n",
       "3       17   Feminino     Não      120         Sim   \n",
       "4       18   Feminino  Talvez      140         Sim   \n",
       "..     ...        ...     ...      ...         ...   \n",
       "165     56   Feminino     Sim      360         Sim   \n",
       "166     19   Feminino     Sim      200         Sim   \n",
       "167     43   Feminino     Sim     3000         Não   \n",
       "168     43  Masculino     Sim      360         Sim   \n",
       "169     58   Feminino     Sim        6         Não   \n",
       "\n",
       "                                          Superar Vontade  \n",
       "0              Comecei a fazer exercícios em casa  Talvez  \n",
       "1                                          Outros     Sim  \n",
       "2    Fiquei dependente à reabertura das academias     Sim  \n",
       "3              Comecei a fazer exercícios em casa     Sim  \n",
       "4              Comecei a fazer exercícios em casa     Não  \n",
       "..                                            ...     ...  \n",
       "165            Comecei a fazer exercícios em casa     Sim  \n",
       "166            Comecei a fazer exercícios em casa     Sim  \n",
       "167            Comecei a fazer exercícios em casa     Não  \n",
       "168            Comecei a fazer exercícios em casa     Sim  \n",
       "169            Comecei a fazer exercícios em casa     Sim  \n",
       "\n",
       "[170 rows x 7 columns]"
      ]
     },
     "execution_count": 9,
     "metadata": {},
     "output_type": "execute_result"
    }
   ],
   "source": [
    "dados = dados.drop(columns=['Nome\\n'])\n",
    "dados"
   ]
  },
  {
   "cell_type": "markdown",
   "metadata": {},
   "source": [
    "### Idade"
   ]
  },
  {
   "cell_type": "raw",
   "metadata": {},
   "source": [
    "IDADE:\n",
    "\n",
    "Idade X Quantos MINUTOS de atividade física você faz durante a SEMANA?"
   ]
  },
  {
   "cell_type": "markdown",
   "metadata": {},
   "source": [
    "Para fazer a análise da idade das amostras contidas nos dados, decidimos analisar quais as idades que mais aparecem no nosso dataset, a média dessas idades e a distribuição delas."
   ]
  },
  {
   "cell_type": "code",
   "execution_count": 10,
   "metadata": {},
   "outputs": [
    {
     "data": {
      "text/plain": [
       "Text(0.5, 1.0, 'Distribuição das Idades dos participantes')"
      ]
     },
     "execution_count": 10,
     "metadata": {},
     "output_type": "execute_result"
    },
    {
     "data": {
      "image/png": "[encoded data removed]",
      "text/plain": [
       "<Figure size 1296x360 with 1 Axes>"
      ]
     },
     "metadata": {
      "needs_background": "light"
     },
     "output_type": "display_data"
    }
   ],
   "source": [
    "plt.figure(figsize=(18, 5))\n",
    "plt.hist(dados['Idade'], bins=50, density=True,\n",
    "color='blue', edgecolor='white',\n",
    "linewidth=1, alpha=0.8)\n",
    "plt.ylabel('Densidade')\n",
    "plt.xlabel('Idade (em anos)')\n",
    "plt.title('Distribuição das Idades dos participantes')"
   ]
  },
  {
   "cell_type": "code",
   "execution_count": 11,
   "metadata": {},
   "outputs": [
    {
     "data": {
      "text/plain": [
       "count    170.000000\n",
       "mean      32.523529\n",
       "std       16.190509\n",
       "min       12.000000\n",
       "25%       19.000000\n",
       "50%       21.000000\n",
       "75%       49.000000\n",
       "max       66.000000\n",
       "Name: Idade, dtype: float64"
      ]
     },
     "execution_count": 11,
     "metadata": {},
     "output_type": "execute_result"
    }
   ],
   "source": [
    "dados.Idade.describe()"
   ]
  },
  {
   "cell_type": "markdown",
   "metadata": {},
   "source": [
    "Pela análise da distribuição das idades dos participantes da pesquisa, podemos aferir que existe uma maior concentração de amostras com idades próximas de 19 anos, que pode ser justificado pelo maior alcance que temos no público dessa idade.\n",
    "\n",
    "Porém, obtivemos respostas de pessoas de diferentes idades, e por isso podemos repartir os nossos dados segundo faixas etárias para fazer uma análise focada especialmente em alguma dessas faixas."
   ]
  },
  {
   "cell_type": "markdown",
   "metadata": {},
   "source": [
    "#### Idade X Quantos MINUTOS de atividade física você faz durante a SEMANA"
   ]
  },
  {
   "cell_type": "markdown",
   "metadata": {},
   "source": [
    "### Sexo"
   ]
  },
  {
   "cell_type": "markdown",
   "metadata": {},
   "source": [
    "Acreditamos que não será necessária limpeza nessa variável pois representa algo pessoal das pessoas que participaram da nossa pesquisa."
   ]
  },
  {
   "cell_type": "code",
   "execution_count": 12,
   "metadata": {},
   "outputs": [
    {
     "data": {
      "text/plain": [
       "Feminino     0.564706\n",
       "Masculino    0.435294\n",
       "Name: Sexo, dtype: float64"
      ]
     },
     "execution_count": 12,
     "metadata": {},
     "output_type": "execute_result"
    }
   ],
   "source": [
    "dados.Sexo.value_counts(True)"
   ]
  },
  {
   "cell_type": "code",
   "execution_count": 13,
   "metadata": {},
   "outputs": [
    {
     "data": {
      "text/plain": [
       "<AxesSubplot:title={'center':'Sexo dos participantes'}, ylabel='Sexo'>"
      ]
     },
     "execution_count": 13,
     "metadata": {},
     "output_type": "execute_result"
    },
    {
     "data": {
      "image/png": "[encoded data removed]",
      "text/plain": [
       "<Figure size 432x288 with 1 Axes>"
      ]
     },
     "metadata": {},
     "output_type": "display_data"
    }
   ],
   "source": [
    "sexo = dados.Sexo.value_counts()\n",
    "sexo.plot(kind='pie', title='Sexo dos participantes', autopct=\"%.2f\")"
   ]
  },
  {
   "cell_type": "markdown",
   "metadata": {},
   "source": [
    "### Você se considera uma pessoa fisicamente ativa?"
   ]
  },
  {
   "cell_type": "markdown",
   "metadata": {},
   "source": [
    "Acreditamos que não será necessária limpeza nessa variável pois representa algo pessoal das pessoas que participaram da nossa pesquisa. Pórem, nesse caso, seremos capazes de analisar o que as pessoas julgam ser \"uma pessoa fisicamente ativa\", nos dando a possibilidade de observar nos dados as pessoas que realmente são fisicamente ativas e as que não são."
   ]
  },
  {
   "cell_type": "code",
   "execution_count": 14,
   "metadata": {},
   "outputs": [
    {
     "data": {
      "text/plain": [
       "Sim       0.676471\n",
       "Não       0.241176\n",
       "Talvez    0.082353\n",
       "Name: Ativa, dtype: float64"
      ]
     },
     "execution_count": 14,
     "metadata": {},
     "output_type": "execute_result"
    }
   ],
   "source": [
    "dados.Ativa.value_counts(True)"
   ]
  },
  {
   "cell_type": "code",
   "execution_count": 15,
   "metadata": {},
   "outputs": [
    {
     "data": {
      "text/plain": [
       "<AxesSubplot:title={'center':'Você se considera uma pessoa fisicamente ativa?'}, ylabel='Ativa'>"
      ]
     },
     "execution_count": 15,
     "metadata": {},
     "output_type": "execute_result"
    },
    {
     "data": {
      "image/png": "[encoded data removed]",
      "text/plain": [
       "<Figure size 432x288 with 1 Axes>"
      ]
     },
     "metadata": {},
     "output_type": "display_data"
    }
   ],
   "source": [
    "ativa = dados.Ativa.value_counts()\n",
    "ativa.plot(kind='pie', title='Você se considera uma pessoa fisicamente ativa?', autopct=\"%.2f\")"
   ]
  },
  {
   "cell_type": "markdown",
   "metadata": {},
   "source": [
    "### Quantos MINUTOS de atividade física você faz durante a SEMANA?"
   ]
  },
  {
   "cell_type": "markdown",
   "metadata": {},
   "source": [
    "Para fazer a análise do tempo destinado a atividades físicas por semana das amostras contidas nos dados, decidimos analisar quais os tempos que mais aparecem no nosso dataset, a média dessas tempos e a distribuição deles."
   ]
  },
  {
   "cell_type": "code",
   "execution_count": 16,
   "metadata": {},
   "outputs": [
    {
     "data": {
      "text/plain": [
       "Text(0.5, 1.0, 'Distribuição da frequência de exercício dos participantes POR SEMANA')"
      ]
     },
     "execution_count": 16,
     "metadata": {},
     "output_type": "execute_result"
    },
    {
     "data": {
      "image/png": "[encoded data removed]",
      "text/plain": [
       "<Figure size 1296x360 with 1 Axes>"
      ]
     },
     "metadata": {
      "needs_background": "light"
     },
     "output_type": "display_data"
    }
   ],
   "source": [
    "plt.figure(figsize=(18, 5))\n",
    "plt.hist(dados['Minutos'], bins=75, density=True,\n",
    "color='blue', edgecolor='white',\n",
    "linewidth=1, alpha=0.8)\n",
    "plt.ylabel('Densidade')\n",
    "plt.xlabel('Tempo (em minutos)')\n",
    "plt.title('Distribuição da frequência de exercício dos participantes POR SEMANA')"
   ]
  },
  {
   "cell_type": "markdown",
   "metadata": {},
   "source": [
    "#### Dados menores que 10:"
   ]
  },
  {
   "cell_type": "markdown",
   "metadata": {},
   "source": [
    "Pela análise dos dados, percebemos que essa pergunta teve um grau de dificuldade de interpretação baseado nas respostas que obtivemos, pois acreditamos que algumas amostras apresentam parâmetros diferentes do que haviamos perguntando, como VEZES que realiza exercícios durante a semana ou HORAS que realiza exercícios durante a semana.\n",
    "\n",
    "Considerando esses possíveis erros de interpretação, decidimos contabilizar apenas os dados que apresentam um número maior que 10 minutos de exercícios físicos por semana, incluindo também as amostras que apresentaram o número 0, pois independente da interpretação, a pergunta receberia a mesma resposta."
   ]
  },
  {
   "cell_type": "code",
   "execution_count": 17,
   "metadata": {},
   "outputs": [
    {
     "data": {
      "text/html": [
       "<div>\n",
       "<style scoped>\n",
       "    .dataframe tbody tr th:only-of-type {\n",
       "        vertical-align: middle;\n",
       "    }\n",
       "\n",
       "    .dataframe tbody tr th {\n",
       "        vertical-align: top;\n",
       "    }\n",
       "\n",
       "    .dataframe thead th {\n",
       "        text-align: right;\n",
       "    }\n",
       "</style>\n",
       "<table border=\"1\" class=\"dataframe\">\n",
       "  <thead>\n",
       "    <tr style=\"text-align: right;\">\n",
       "      <th></th>\n",
       "      <th>Idade</th>\n",
       "      <th>Sexo</th>\n",
       "      <th>Ativa</th>\n",
       "      <th>Minutos</th>\n",
       "      <th>Influenciou</th>\n",
       "      <th>Superar</th>\n",
       "      <th>Vontade</th>\n",
       "    </tr>\n",
       "  </thead>\n",
       "  <tbody>\n",
       "    <tr>\n",
       "      <th>13</th>\n",
       "      <td>20</td>\n",
       "      <td>Masculino</td>\n",
       "      <td>Sim</td>\n",
       "      <td>5</td>\n",
       "      <td>Sim</td>\n",
       "      <td>Outros</td>\n",
       "      <td>Sim</td>\n",
       "    </tr>\n",
       "    <tr>\n",
       "      <th>39</th>\n",
       "      <td>18</td>\n",
       "      <td>Feminino</td>\n",
       "      <td>Não</td>\n",
       "      <td>2</td>\n",
       "      <td>Sim</td>\n",
       "      <td>Outros</td>\n",
       "      <td>Não</td>\n",
       "    </tr>\n",
       "    <tr>\n",
       "      <th>44</th>\n",
       "      <td>15</td>\n",
       "      <td>Feminino</td>\n",
       "      <td>Sim</td>\n",
       "      <td>8</td>\n",
       "      <td>Sim</td>\n",
       "      <td>Comecei a fazer exercícios em casa</td>\n",
       "      <td>Talvez</td>\n",
       "    </tr>\n",
       "    <tr>\n",
       "      <th>46</th>\n",
       "      <td>50</td>\n",
       "      <td>Masculino</td>\n",
       "      <td>Sim</td>\n",
       "      <td>9</td>\n",
       "      <td>Sim</td>\n",
       "      <td>Comecei a fazer exercícios em casa</td>\n",
       "      <td>Não</td>\n",
       "    </tr>\n",
       "    <tr>\n",
       "      <th>51</th>\n",
       "      <td>19</td>\n",
       "      <td>Masculino</td>\n",
       "      <td>Não</td>\n",
       "      <td>5</td>\n",
       "      <td>Sim</td>\n",
       "      <td>Fiquei dependente à reabertura das academias</td>\n",
       "      <td>Sim</td>\n",
       "    </tr>\n",
       "    <tr>\n",
       "      <th>53</th>\n",
       "      <td>17</td>\n",
       "      <td>Feminino</td>\n",
       "      <td>Sim</td>\n",
       "      <td>3</td>\n",
       "      <td>Não</td>\n",
       "      <td>Fiquei dependente à reabertura das academias</td>\n",
       "      <td>Sim</td>\n",
       "    </tr>\n",
       "    <tr>\n",
       "      <th>54</th>\n",
       "      <td>19</td>\n",
       "      <td>Masculino</td>\n",
       "      <td>Sim</td>\n",
       "      <td>8</td>\n",
       "      <td>Sim</td>\n",
       "      <td>Comecei a fazer exercícios em casa</td>\n",
       "      <td>Sim</td>\n",
       "    </tr>\n",
       "    <tr>\n",
       "      <th>58</th>\n",
       "      <td>18</td>\n",
       "      <td>Feminino</td>\n",
       "      <td>Sim</td>\n",
       "      <td>7</td>\n",
       "      <td>Sim</td>\n",
       "      <td>Comecei a fazer exercícios em casa</td>\n",
       "      <td>Não</td>\n",
       "    </tr>\n",
       "    <tr>\n",
       "      <th>76</th>\n",
       "      <td>20</td>\n",
       "      <td>Feminino</td>\n",
       "      <td>Sim</td>\n",
       "      <td>5</td>\n",
       "      <td>Sim</td>\n",
       "      <td>Comecei a fazer exercícios em casa</td>\n",
       "      <td>Talvez</td>\n",
       "    </tr>\n",
       "    <tr>\n",
       "      <th>82</th>\n",
       "      <td>19</td>\n",
       "      <td>Masculino</td>\n",
       "      <td>Não</td>\n",
       "      <td>5</td>\n",
       "      <td>Sim</td>\n",
       "      <td>Fiquei dependente à reabertura das academias</td>\n",
       "      <td>Sim</td>\n",
       "    </tr>\n",
       "    <tr>\n",
       "      <th>89</th>\n",
       "      <td>19</td>\n",
       "      <td>Masculino</td>\n",
       "      <td>Não</td>\n",
       "      <td>5</td>\n",
       "      <td>Sim</td>\n",
       "      <td>Fiquei dependente à reabertura das academias</td>\n",
       "      <td>Sim</td>\n",
       "    </tr>\n",
       "    <tr>\n",
       "      <th>90</th>\n",
       "      <td>52</td>\n",
       "      <td>Feminino</td>\n",
       "      <td>Sim</td>\n",
       "      <td>8</td>\n",
       "      <td>Sim</td>\n",
       "      <td>Comecei a fazer exercícios em casa</td>\n",
       "      <td>Sim</td>\n",
       "    </tr>\n",
       "    <tr>\n",
       "      <th>94</th>\n",
       "      <td>49</td>\n",
       "      <td>Masculino</td>\n",
       "      <td>Sim</td>\n",
       "      <td>6</td>\n",
       "      <td>Sim</td>\n",
       "      <td>Comecei a fazer exercícios em casa</td>\n",
       "      <td>Sim</td>\n",
       "    </tr>\n",
       "    <tr>\n",
       "      <th>102</th>\n",
       "      <td>58</td>\n",
       "      <td>Feminino</td>\n",
       "      <td>Sim</td>\n",
       "      <td>6</td>\n",
       "      <td>Não</td>\n",
       "      <td>Comecei a fazer exercícios em casa</td>\n",
       "      <td>Sim</td>\n",
       "    </tr>\n",
       "    <tr>\n",
       "      <th>105</th>\n",
       "      <td>53</td>\n",
       "      <td>Masculino</td>\n",
       "      <td>Sim</td>\n",
       "      <td>5</td>\n",
       "      <td>Não</td>\n",
       "      <td>Consegui continuar com o mesmo plano de exercí...</td>\n",
       "      <td>Talvez</td>\n",
       "    </tr>\n",
       "    <tr>\n",
       "      <th>113</th>\n",
       "      <td>42</td>\n",
       "      <td>Masculino</td>\n",
       "      <td>Sim</td>\n",
       "      <td>8</td>\n",
       "      <td>Sim</td>\n",
       "      <td>Comecei a fazer exercícios em casa</td>\n",
       "      <td>Sim</td>\n",
       "    </tr>\n",
       "    <tr>\n",
       "      <th>115</th>\n",
       "      <td>57</td>\n",
       "      <td>Feminino</td>\n",
       "      <td>Sim</td>\n",
       "      <td>9</td>\n",
       "      <td>Sim</td>\n",
       "      <td>Comecei a fazer exercícios em casa</td>\n",
       "      <td>Sim</td>\n",
       "    </tr>\n",
       "    <tr>\n",
       "      <th>120</th>\n",
       "      <td>19</td>\n",
       "      <td>Masculino</td>\n",
       "      <td>Não</td>\n",
       "      <td>5</td>\n",
       "      <td>Sim</td>\n",
       "      <td>Fiquei dependente à reabertura das academias</td>\n",
       "      <td>Sim</td>\n",
       "    </tr>\n",
       "    <tr>\n",
       "      <th>124</th>\n",
       "      <td>19</td>\n",
       "      <td>Masculino</td>\n",
       "      <td>Não</td>\n",
       "      <td>5</td>\n",
       "      <td>Sim</td>\n",
       "      <td>Fiquei dependente à reabertura das academias</td>\n",
       "      <td>Sim</td>\n",
       "    </tr>\n",
       "    <tr>\n",
       "      <th>134</th>\n",
       "      <td>45</td>\n",
       "      <td>Feminino</td>\n",
       "      <td>Sim</td>\n",
       "      <td>5</td>\n",
       "      <td>Sim</td>\n",
       "      <td>Comecei a fazer exercícios em casa</td>\n",
       "      <td>Sim</td>\n",
       "    </tr>\n",
       "    <tr>\n",
       "      <th>154</th>\n",
       "      <td>18</td>\n",
       "      <td>Feminino</td>\n",
       "      <td>Sim</td>\n",
       "      <td>7</td>\n",
       "      <td>Sim</td>\n",
       "      <td>Comecei a fazer exercícios em casa</td>\n",
       "      <td>Não</td>\n",
       "    </tr>\n",
       "    <tr>\n",
       "      <th>155</th>\n",
       "      <td>18</td>\n",
       "      <td>Feminino</td>\n",
       "      <td>Não</td>\n",
       "      <td>1</td>\n",
       "      <td>Sim</td>\n",
       "      <td>Fiquei dependente à reabertura das academias</td>\n",
       "      <td>Sim</td>\n",
       "    </tr>\n",
       "    <tr>\n",
       "      <th>169</th>\n",
       "      <td>58</td>\n",
       "      <td>Feminino</td>\n",
       "      <td>Sim</td>\n",
       "      <td>6</td>\n",
       "      <td>Não</td>\n",
       "      <td>Comecei a fazer exercícios em casa</td>\n",
       "      <td>Sim</td>\n",
       "    </tr>\n",
       "  </tbody>\n",
       "</table>\n",
       "</div>"
      ],
      "text/plain": [
       "     Idade       Sexo Ativa  Minutos Influenciou  \\\n",
       "13      20  Masculino   Sim        5         Sim   \n",
       "39      18   Feminino   Não        2         Sim   \n",
       "44      15   Feminino   Sim        8         Sim   \n",
       "46      50  Masculino   Sim        9         Sim   \n",
       "51      19  Masculino   Não        5         Sim   \n",
       "53      17   Feminino   Sim        3         Não   \n",
       "54      19  Masculino   Sim        8         Sim   \n",
       "58      18   Feminino   Sim        7         Sim   \n",
       "76      20   Feminino   Sim        5         Sim   \n",
       "82      19  Masculino   Não        5         Sim   \n",
       "89      19  Masculino   Não        5         Sim   \n",
       "90      52   Feminino   Sim        8         Sim   \n",
       "94      49  Masculino   Sim        6         Sim   \n",
       "102     58   Feminino   Sim        6         Não   \n",
       "105     53  Masculino   Sim        5         Não   \n",
       "113     42  Masculino   Sim        8         Sim   \n",
       "115     57   Feminino   Sim        9         Sim   \n",
       "120     19  Masculino   Não        5         Sim   \n",
       "124     19  Masculino   Não        5         Sim   \n",
       "134     45   Feminino   Sim        5         Sim   \n",
       "154     18   Feminino   Sim        7         Sim   \n",
       "155     18   Feminino   Não        1         Sim   \n",
       "169     58   Feminino   Sim        6         Não   \n",
       "\n",
       "                                               Superar Vontade  \n",
       "13                                              Outros     Sim  \n",
       "39                                              Outros     Não  \n",
       "44                  Comecei a fazer exercícios em casa  Talvez  \n",
       "46                  Comecei a fazer exercícios em casa     Não  \n",
       "51        Fiquei dependente à reabertura das academias     Sim  \n",
       "53        Fiquei dependente à reabertura das academias     Sim  \n",
       "54                  Comecei a fazer exercícios em casa     Sim  \n",
       "58                  Comecei a fazer exercícios em casa     Não  \n",
       "76                  Comecei a fazer exercícios em casa  Talvez  \n",
       "82        Fiquei dependente à reabertura das academias     Sim  \n",
       "89        Fiquei dependente à reabertura das academias     Sim  \n",
       "90                  Comecei a fazer exercícios em casa     Sim  \n",
       "94                  Comecei a fazer exercícios em casa     Sim  \n",
       "102                 Comecei a fazer exercícios em casa     Sim  \n",
       "105  Consegui continuar com o mesmo plano de exercí...  Talvez  \n",
       "113                 Comecei a fazer exercícios em casa     Sim  \n",
       "115                 Comecei a fazer exercícios em casa     Sim  \n",
       "120       Fiquei dependente à reabertura das academias     Sim  \n",
       "124       Fiquei dependente à reabertura das academias     Sim  \n",
       "134                 Comecei a fazer exercícios em casa     Sim  \n",
       "154                 Comecei a fazer exercícios em casa     Não  \n",
       "155       Fiquei dependente à reabertura das academias     Sim  \n",
       "169                 Comecei a fazer exercícios em casa     Sim  "
      ]
     },
     "execution_count": 17,
     "metadata": {},
     "output_type": "execute_result"
    }
   ],
   "source": [
    "menor_10_diferente_0 = dados.loc[(dados['Minutos']<10) & (dados['Minutos']!=0)]\n",
    "menor_10_diferente_0\n"
   ]
  },
  {
   "cell_type": "code",
   "execution_count": 18,
   "metadata": {
    "scrolled": true
   },
   "outputs": [],
   "source": [
    "#dados_limpo = dados.drop(menor_10_diferente_0.index)\n",
    "#dados_limpo\n",
    "dados = dados.drop(menor_10_diferente_0.index)\n",
    "#dados"
   ]
  },
  {
   "cell_type": "code",
   "execution_count": 19,
   "metadata": {
    "scrolled": true
   },
   "outputs": [
    {
     "data": {
      "text/plain": [
       "Text(0.5, 1.0, 'Distribuição da frequência de exercício dos participantes POR SEMANA')"
      ]
     },
     "execution_count": 19,
     "metadata": {},
     "output_type": "execute_result"
    },
    {
     "data": {
      "image/png": "[encoded data removed]",
      "text/plain": [
       "<Figure size 1296x360 with 1 Axes>"
      ]
     },
     "metadata": {
      "needs_background": "light"
     },
     "output_type": "display_data"
    }
   ],
   "source": [
    "plt.figure(figsize=(18, 5))\n",
    "plt.hist(dados['Minutos'], bins=75, density=True,\n",
    "color='blue', edgecolor='white',\n",
    "linewidth=1, alpha=0.8)\n",
    "plt.ylabel('Densidade')\n",
    "plt.xlabel('Tempo (em minutos)')\n",
    "plt.title('Distribuição da frequência de exercício dos participantes POR SEMANA')"
   ]
  },
  {
   "cell_type": "markdown",
   "metadata": {},
   "source": [
    "#### Valores aberrantes:"
   ]
  },
  {
   "cell_type": "markdown",
   "metadata": {},
   "source": [
    "Pela análise do histograma, podemos perceber a existência de um valor aberrante, e quando fomos analisá-lo, descobrimos que ele poderia ser um erro nas respostas do formulário, pois representa uma média de 7,14 horas por dia, algo humanamente impróvavel."
   ]
  },
  {
   "cell_type": "code",
   "execution_count": 20,
   "metadata": {},
   "outputs": [],
   "source": [
    "dados = dados.drop(dados[dados['Minutos'] > 1000].index)"
   ]
  },
  {
   "cell_type": "code",
   "execution_count": 21,
   "metadata": {},
   "outputs": [
    {
     "data": {
      "text/plain": [
       "Text(0.5, 1.0, 'Distribuição da frequência de exercício dos participantes POR SEMANA')"
      ]
     },
     "execution_count": 21,
     "metadata": {},
     "output_type": "execute_result"
    },
    {
     "data": {
      "image/png": "[encoded data removed]",
      "text/plain": [
       "<Figure size 1296x360 with 1 Axes>"
      ]
     },
     "metadata": {
      "needs_background": "light"
     },
     "output_type": "display_data"
    }
   ],
   "source": [
    "plt.figure(figsize=(18, 5))\n",
    "plt.hist(dados['Minutos'], bins=75, density=True,\n",
    "color='blue', edgecolor='white',\n",
    "linewidth=1, alpha=0.8)\n",
    "plt.ylabel('Densidade')\n",
    "plt.xlabel('Tempo (em minutos)')\n",
    "plt.title('Distribuição da frequência de exercício dos participantes POR SEMANA')"
   ]
  },
  {
   "cell_type": "markdown",
   "metadata": {},
   "source": [
    "#### Descrição da variável"
   ]
  },
  {
   "cell_type": "code",
   "execution_count": 22,
   "metadata": {},
   "outputs": [
    {
     "data": {
      "text/plain": [
       "count    145.000000\n",
       "mean     237.951724\n",
       "std      163.763902\n",
       "min        0.000000\n",
       "25%      120.000000\n",
       "50%      240.000000\n",
       "75%      360.000000\n",
       "max      840.000000\n",
       "Name: Minutos, dtype: float64"
      ]
     },
     "execution_count": 22,
     "metadata": {},
     "output_type": "execute_result"
    }
   ],
   "source": [
    "dados.Minutos.describe()"
   ]
  },
  {
   "cell_type": "markdown",
   "metadata": {},
   "source": [
    "Realizando uma análise dos resultados, podemos perceber que obtivemos uma média de aproximadamente 206.16 minutos de exercícios por semana, com a "
   ]
  },
  {
   "cell_type": "code",
   "execution_count": 23,
   "metadata": {},
   "outputs": [
    {
     "name": "stderr",
     "output_type": "stream",
     "text": [
      "C:\\Users\\gabri\\anaconda3\\lib\\site-packages\\seaborn\\_decorators.py:36: FutureWarning: Pass the following variables as keyword args: x, y. From version 0.12, the only valid positional argument will be `data`, and passing other arguments without an explicit keyword will result in an error or misinterpretation.\n",
      "  warnings.warn(\n"
     ]
    },
    {
     "data": {
      "text/plain": [
       "<AxesSubplot:xlabel='Minutos', ylabel='Idade'>"
      ]
     },
     "execution_count": 23,
     "metadata": {},
     "output_type": "execute_result"
    },
    {
     "data": {
      "image/png": "[encoded data removed]",
      "text/plain": [
       "<Figure size 432x288 with 1 Axes>"
      ]
     },
     "metadata": {
      "needs_background": "light"
     },
     "output_type": "display_data"
    }
   ],
   "source": [
    "dados_maior28 = dados.loc[dados['Idade'] > 28, :]\n",
    "dados_menor28 = dados.loc[dados['Idade'] <=28, :]\n",
    "\n",
    "\n",
    "sns.scatterplot(dados_maior28['Minutos'], dados_maior28['Idade'] )\n"
   ]
  },
  {
   "cell_type": "code",
   "execution_count": 24,
   "metadata": {},
   "outputs": [
    {
     "name": "stderr",
     "output_type": "stream",
     "text": [
      "C:\\Users\\gabri\\anaconda3\\lib\\site-packages\\seaborn\\_decorators.py:36: FutureWarning: Pass the following variables as keyword args: x, y. From version 0.12, the only valid positional argument will be `data`, and passing other arguments without an explicit keyword will result in an error or misinterpretation.\n",
      "  warnings.warn(\n"
     ]
    },
    {
     "data": {
      "text/plain": [
       "<AxesSubplot:xlabel='Minutos', ylabel='Idade'>"
      ]
     },
     "execution_count": 24,
     "metadata": {},
     "output_type": "execute_result"
    },
    {
     "data": {
      "image/png": "[encoded data removed]",
      "text/plain": [
       "<Figure size 432x288 with 1 Axes>"
      ]
     },
     "metadata": {
      "needs_background": "light"
     },
     "output_type": "display_data"
    }
   ],
   "source": [
    "\n",
    "sns.scatterplot(dados_menor28['Minutos'], dados_menor28['Idade'])"
   ]
  },
  {
   "cell_type": "code",
   "execution_count": 25,
   "metadata": {},
   "outputs": [
    {
     "name": "stderr",
     "output_type": "stream",
     "text": [
      "C:\\Users\\gabri\\anaconda3\\lib\\site-packages\\seaborn\\_decorators.py:36: FutureWarning: Pass the following variables as keyword args: x, y. From version 0.12, the only valid positional argument will be `data`, and passing other arguments without an explicit keyword will result in an error or misinterpretation.\n",
      "  warnings.warn(\n",
      "C:\\Users\\gabri\\anaconda3\\lib\\site-packages\\seaborn\\_decorators.py:36: FutureWarning: Pass the following variables as keyword args: x, y. From version 0.12, the only valid positional argument will be `data`, and passing other arguments without an explicit keyword will result in an error or misinterpretation.\n",
      "  warnings.warn(\n"
     ]
    },
    {
     "data": {
      "text/plain": [
       "<AxesSubplot:xlabel='Minutos', ylabel='Idade'>"
      ]
     },
     "execution_count": 25,
     "metadata": {},
     "output_type": "execute_result"
    },
    {
     "data": {
      "image/png": "[encoded data removed]",
      "text/plain": [
       "<Figure size 432x288 with 1 Axes>"
      ]
     },
     "metadata": {
      "needs_background": "light"
     },
     "output_type": "display_data"
    }
   ],
   "source": [
    "sns.scatterplot(dados_maior28['Minutos'], dados_maior28['Idade'])\n",
    "sns.scatterplot(dados_menor28['Minutos'], dados_menor28['Idade'])"
   ]
  },
  {
   "cell_type": "markdown",
   "metadata": {},
   "source": [
    "#### Quantos MINUTOS de atividade física você faz durante a SEMANA X Sexo MASCULINO"
   ]
  },
  {
   "cell_type": "code",
   "execution_count": 26,
   "metadata": {},
   "outputs": [
    {
     "data": {
      "text/plain": [
       "Text(0.5, 1.0, 'Distribuição do tempo de atividade dos participantes do sexo masculino por minuto')"
      ]
     },
     "execution_count": 26,
     "metadata": {},
     "output_type": "execute_result"
    },
    {
     "data": {
      "image/png": "[encoded data removed]",
      "text/plain": [
       "<Figure size 1296x360 with 1 Axes>"
      ]
     },
     "metadata": {
      "needs_background": "light"
     },
     "output_type": "display_data"
    }
   ],
   "source": [
    "masculino = dados.loc[dados['Sexo'] == 'Masculino',:]\n",
    "\n",
    "plt.figure(figsize=(18, 5))\n",
    "plt.hist(masculino['Minutos'], bins=50, density=True,\n",
    "color='blue', edgecolor='white',\n",
    "linewidth=1, alpha=0.8)\n",
    "plt.ylabel('Sexo')\n",
    "plt.xlabel('Tempo (minutos)')\n",
    "plt.title('Distribuição do tempo de atividade dos participantes do sexo masculino por minuto')"
   ]
  },
  {
   "cell_type": "code",
   "execution_count": 27,
   "metadata": {},
   "outputs": [
    {
     "data": {
      "text/plain": [
       "Text(0.5, 1.0, 'Distribuição do tempo de atividade dos participantes do sexo masculino por minuto')"
      ]
     },
     "execution_count": 27,
     "metadata": {},
     "output_type": "execute_result"
    },
    {
     "data": {
      "image/png": "[encoded data removed]",
      "text/plain": [
       "<Figure size 1296x360 with 1 Axes>"
      ]
     },
     "metadata": {
      "needs_background": "light"
     },
     "output_type": "display_data"
    }
   ],
   "source": [
    "feminino = dados.loc[dados['Sexo'] == 'Feminino',:]\n",
    "\n",
    "plt.figure(figsize=(18, 5))\n",
    "plt.hist(feminino['Minutos'], bins=50, density=True,\n",
    "color='blue', edgecolor='white',\n",
    "linewidth=1, alpha=0.8)\n",
    "plt.ylabel('Densidade')\n",
    "plt.xlabel('Tempo (minutos)')\n",
    "plt.title('Distribuição do tempo de atividade dos participantes do sexo masculino por minuto')"
   ]
  },
  {
   "cell_type": "markdown",
   "metadata": {},
   "source": [
    "### A pandemia influenciou a sua prática de atividades físicas?"
   ]
  },
  {
   "cell_type": "markdown",
   "metadata": {},
   "source": [
    "Acreditamos que não será necessária limpeza nessa variável pois representa algo pessoal das pessoas que participaram da nossa pesquisa."
   ]
  },
  {
   "cell_type": "code",
   "execution_count": 28,
   "metadata": {},
   "outputs": [
    {
     "data": {
      "text/plain": [
       "Sim    0.77931\n",
       "Não    0.22069\n",
       "Name: Influenciou, dtype: float64"
      ]
     },
     "execution_count": 28,
     "metadata": {},
     "output_type": "execute_result"
    }
   ],
   "source": [
    "dados.Influenciou.value_counts(True)"
   ]
  },
  {
   "cell_type": "code",
   "execution_count": 29,
   "metadata": {},
   "outputs": [
    {
     "data": {
      "text/plain": [
       "<AxesSubplot:title={'center':'A pandemia influenciou a sua prática de atividades físicas?'}, ylabel='Influenciou'>"
      ]
     },
     "execution_count": 29,
     "metadata": {},
     "output_type": "execute_result"
    },
    {
     "data": {
      "image/png": "[encoded data removed]",
      "text/plain": [
       "<Figure size 432x288 with 1 Axes>"
      ]
     },
     "metadata": {},
     "output_type": "display_data"
    }
   ],
   "source": [
    "influenciou = dados.Influenciou.value_counts()\n",
    "influenciou.plot(kind='pie', title='A pandemia influenciou a sua prática de atividades físicas?', autopct=\"%.2f\")"
   ]
  },
  {
   "cell_type": "markdown",
   "metadata": {},
   "source": [
    "### O que você fez para superar as barreiras que a pandemia impôs a prática de atividades físicas?"
   ]
  },
  {
   "cell_type": "markdown",
   "metadata": {},
   "source": [
    "Acreditamos que não será necessária limpeza nessa variável pois representa algo pessoal das pessoas que participaram da nossa pesquisa."
   ]
  },
  {
   "cell_type": "code",
   "execution_count": 30,
   "metadata": {},
   "outputs": [
    {
     "data": {
      "text/plain": [
       "Comecei a fazer exercícios em casa                                 0.544828\n",
       "Outros                                                             0.165517\n",
       "Dei preferência a atividades individuais                           0.124138\n",
       "Fiquei dependente à reabertura das academias                       0.096552\n",
       "Consegui continuar com o mesmo plano de exercícios que já tinha    0.068966\n",
       "Name: Superar, dtype: float64"
      ]
     },
     "execution_count": 30,
     "metadata": {},
     "output_type": "execute_result"
    }
   ],
   "source": [
    "dados.Superar.value_counts(True)"
   ]
  },
  {
   "cell_type": "code",
   "execution_count": 31,
   "metadata": {},
   "outputs": [
    {
     "data": {
      "text/plain": [
       "<AxesSubplot:title={'center':'O que você fez para superar as barreiras que a pandemia impôs a prática de atividades físicas?'}, ylabel='Superar'>"
      ]
     },
     "execution_count": 31,
     "metadata": {},
     "output_type": "execute_result"
    },
    {
     "data": {
      "image/png": "[encoded data removed]",
      "text/plain": [
       "<Figure size 432x288 with 1 Axes>"
      ]
     },
     "metadata": {},
     "output_type": "display_data"
    }
   ],
   "source": [
    "superar = dados.Superar.value_counts()\n",
    "superar.plot(kind='pie', title='O que você fez para superar as barreiras que a pandemia impôs a prática de atividades físicas?', autopct=\"%.2f\")"
   ]
  },
  {
   "cell_type": "markdown",
   "metadata": {},
   "source": [
    "### Você sente a vontade de realizar atividades físicas em maior frequência?"
   ]
  },
  {
   "cell_type": "markdown",
   "metadata": {},
   "source": [
    "Acreditamos que não será necessária limpeza nessa variável pois representa algo pessoal das pessoas que participaram da nossa pesquisa."
   ]
  },
  {
   "cell_type": "code",
   "execution_count": 32,
   "metadata": {},
   "outputs": [
    {
     "data": {
      "text/plain": [
       "Sim       0.737931\n",
       "Talvez    0.137931\n",
       "Não       0.124138\n",
       "Name: Vontade, dtype: float64"
      ]
     },
     "execution_count": 32,
     "metadata": {},
     "output_type": "execute_result"
    }
   ],
   "source": [
    "dados.Vontade.value_counts(True)"
   ]
  },
  {
   "cell_type": "code",
   "execution_count": 33,
   "metadata": {},
   "outputs": [
    {
     "data": {
      "text/plain": [
       "<AxesSubplot:title={'center':'Você sente a vontade de realizar atividades físicas em maior frequência?'}, ylabel='Vontade'>"
      ]
     },
     "execution_count": 33,
     "metadata": {},
     "output_type": "execute_result"
    },
    {
     "data": {
      "image/png": "[encoded data removed]",
      "text/plain": [
       "<Figure size 432x288 with 1 Axes>"
      ]
     },
     "metadata": {},
     "output_type": "display_data"
    }
   ],
   "source": [
    "vontade = dados.Vontade.value_counts()\n",
    "vontade.plot(kind='pie', title='Você sente a vontade de realizar atividades físicas em maior frequência?', autopct=\"%.2f\")"
   ]
  },
  {
   "cell_type": "markdown",
   "metadata": {},
   "source": [
    "# Modelos de Predição"
   ]
  },
  {
   "cell_type": "markdown",
   "metadata": {},
   "source": [
    "## Regressão Linear"
   ]
  },
  {
   "cell_type": "markdown",
   "metadata": {},
   "source": [
    "Regressão linear é um modelo linear que assume uma relação linear entre as variáveis de input (features) (x) e a variável única de output (target) (y). \n",
    "\n",
    "Mais especificamente, essa relação significa que y pode ser calculada a partir de uma combinação linear das variáveis de input.\n",
    "\n",
    "Quando existe apenas 1 variável de input (x), ou feature, o método é chamado de Regressão Linear Simples. Quando existem diversas variáveis features, o método é normalmente chamado de Regressão Linear Multipla."
   ]
  },
  {
   "cell_type": "markdown",
   "metadata": {},
   "source": [
    "## Gráfico Feminino"
   ]
  },
  {
   "cell_type": "code",
   "execution_count": 34,
   "metadata": {},
   "outputs": [],
   "source": [
    "xf = feminino['Idade']\n",
    "yf = feminino['Minutos']\n",
    "\n",
    "Xf_dados = sm.add_constant(xf)"
   ]
  },
  {
   "cell_type": "code",
   "execution_count": 35,
   "metadata": {},
   "outputs": [
    {
     "data": {
      "text/html": [
       "<table class=\"simpletable\">\n",
       "<caption>OLS Regression Results</caption>\n",
       "<tr>\n",
       "  <th>Dep. Variable:</th>         <td>Minutos</td>     <th>  R-squared:         </th> <td>   0.001</td>\n",
       "</tr>\n",
       "<tr>\n",
       "  <th>Model:</th>                   <td>OLS</td>       <th>  Adj. R-squared:    </th> <td>  -0.011</td>\n",
       "</tr>\n",
       "<tr>\n",
       "  <th>Method:</th>             <td>Least Squares</td>  <th>  F-statistic:       </th> <td>  0.1125</td>\n",
       "</tr>\n",
       "<tr>\n",
       "  <th>Date:</th>             <td>Tue, 08 Jun 2021</td> <th>  Prob (F-statistic):</th>  <td> 0.738</td> \n",
       "</tr>\n",
       "<tr>\n",
       "  <th>Time:</th>                 <td>13:56:33</td>     <th>  Log-Likelihood:    </th> <td> -534.48</td>\n",
       "</tr>\n",
       "<tr>\n",
       "  <th>No. Observations:</th>      <td>    82</td>      <th>  AIC:               </th> <td>   1073.</td>\n",
       "</tr>\n",
       "<tr>\n",
       "  <th>Df Residuals:</th>          <td>    80</td>      <th>  BIC:               </th> <td>   1078.</td>\n",
       "</tr>\n",
       "<tr>\n",
       "  <th>Df Model:</th>              <td>     1</td>      <th>                     </th>     <td> </td>   \n",
       "</tr>\n",
       "<tr>\n",
       "  <th>Covariance Type:</th>      <td>nonrobust</td>    <th>                     </th>     <td> </td>   \n",
       "</tr>\n",
       "</table>\n",
       "<table class=\"simpletable\">\n",
       "<tr>\n",
       "    <td></td>       <th>coef</th>     <th>std err</th>      <th>t</th>      <th>P>|t|</th>  <th>[0.025</th>    <th>0.975]</th>  \n",
       "</tr>\n",
       "<tr>\n",
       "  <th>const</th> <td>  243.3330</td> <td>   42.953</td> <td>    5.665</td> <td> 0.000</td> <td>  157.854</td> <td>  328.812</td>\n",
       "</tr>\n",
       "<tr>\n",
       "  <th>Idade</th> <td>   -0.3926</td> <td>    1.171</td> <td>   -0.335</td> <td> 0.738</td> <td>   -2.723</td> <td>    1.937</td>\n",
       "</tr>\n",
       "</table>\n",
       "<table class=\"simpletable\">\n",
       "<tr>\n",
       "  <th>Omnibus:</th>       <td> 6.920</td> <th>  Durbin-Watson:     </th> <td>   2.082</td>\n",
       "</tr>\n",
       "<tr>\n",
       "  <th>Prob(Omnibus):</th> <td> 0.031</td> <th>  Jarque-Bera (JB):  </th> <td>   4.418</td>\n",
       "</tr>\n",
       "<tr>\n",
       "  <th>Skew:</th>          <td> 0.404</td> <th>  Prob(JB):          </th> <td>   0.110</td>\n",
       "</tr>\n",
       "<tr>\n",
       "  <th>Kurtosis:</th>      <td> 2.200</td> <th>  Cond. No.          </th> <td>    86.1</td>\n",
       "</tr>\n",
       "</table><br/><br/>Notes:<br/>[1] Standard Errors assume that the covariance matrix of the errors is correctly specified."
      ],
      "text/plain": [
       "<class 'statsmodels.iolib.summary.Summary'>\n",
       "\"\"\"\n",
       "                            OLS Regression Results                            \n",
       "==============================================================================\n",
       "Dep. Variable:                Minutos   R-squared:                       0.001\n",
       "Model:                            OLS   Adj. R-squared:                 -0.011\n",
       "Method:                 Least Squares   F-statistic:                    0.1125\n",
       "Date:                Tue, 08 Jun 2021   Prob (F-statistic):              0.738\n",
       "Time:                        13:56:33   Log-Likelihood:                -534.48\n",
       "No. Observations:                  82   AIC:                             1073.\n",
       "Df Residuals:                      80   BIC:                             1078.\n",
       "Df Model:                           1                                         \n",
       "Covariance Type:            nonrobust                                         \n",
       "==============================================================================\n",
       "                 coef    std err          t      P>|t|      [0.025      0.975]\n",
       "------------------------------------------------------------------------------\n",
       "const        243.3330     42.953      5.665      0.000     157.854     328.812\n",
       "Idade         -0.3926      1.171     -0.335      0.738      -2.723       1.937\n",
       "==============================================================================\n",
       "Omnibus:                        6.920   Durbin-Watson:                   2.082\n",
       "Prob(Omnibus):                  0.031   Jarque-Bera (JB):                4.418\n",
       "Skew:                           0.404   Prob(JB):                        0.110\n",
       "Kurtosis:                       2.200   Cond. No.                         86.1\n",
       "==============================================================================\n",
       "\n",
       "Notes:\n",
       "[1] Standard Errors assume that the covariance matrix of the errors is correctly specified.\n",
       "\"\"\""
      ]
     },
     "execution_count": 35,
     "metadata": {},
     "output_type": "execute_result"
    }
   ],
   "source": [
    "modelf = sm.OLS(yf, Xf_dados)    \n",
    "\n",
    "resultsf = modelf.fit()   \n",
    "\n",
    "resultsf.summary()"
   ]
  },
  {
   "cell_type": "code",
   "execution_count": 36,
   "metadata": {},
   "outputs": [
    {
     "name": "stdout",
     "output_type": "stream",
     "text": [
      "Estimativa de beta0 (coeficente linear): 243.33295683302504\n",
      "Estimativa de beta1 (coeficente angular): -0.3926139141154188\n"
     ]
    }
   ],
   "source": [
    "bf0 = resultsf.params['const']\n",
    "bf1 = resultsf.params['Idade']\n",
    "\n",
    "print(\"Estimativa de beta0 (coeficente linear): {0}\".format(bf0))\n",
    "print(\"Estimativa de beta1 (coeficente angular): {0}\".format(bf1))"
   ]
  },
  {
   "cell_type": "code",
   "execution_count": 37,
   "metadata": {},
   "outputs": [],
   "source": [
    "resultsf.predict\n",
    "\n",
    " \n",
    "\n",
    "xf_vec = np.linspace(xf.min(), xf.max(), 500)\n",
    "yf_vec = bf0 + bf1*xf_vec"
   ]
  },
  {
   "cell_type": "markdown",
   "metadata": {},
   "source": [
    "## Gráfico masculino"
   ]
  },
  {
   "cell_type": "code",
   "execution_count": 38,
   "metadata": {},
   "outputs": [],
   "source": [
    "xm = masculino['Idade']\n",
    "ym = masculino['Minutos']\n",
    "\n",
    "Xm_dados = sm.add_constant(xm)"
   ]
  },
  {
   "cell_type": "code",
   "execution_count": 39,
   "metadata": {},
   "outputs": [
    {
     "data": {
      "text/html": [
       "<table class=\"simpletable\">\n",
       "<caption>OLS Regression Results</caption>\n",
       "<tr>\n",
       "  <th>Dep. Variable:</th>         <td>Minutos</td>     <th>  R-squared:         </th> <td>   0.114</td>\n",
       "</tr>\n",
       "<tr>\n",
       "  <th>Model:</th>                   <td>OLS</td>       <th>  Adj. R-squared:    </th> <td>   0.100</td>\n",
       "</tr>\n",
       "<tr>\n",
       "  <th>Method:</th>             <td>Least Squares</td>  <th>  F-statistic:       </th> <td>   7.854</td>\n",
       "</tr>\n",
       "<tr>\n",
       "  <th>Date:</th>             <td>Tue, 08 Jun 2021</td> <th>  Prob (F-statistic):</th>  <td>0.00679</td>\n",
       "</tr>\n",
       "<tr>\n",
       "  <th>Time:</th>                 <td>13:56:37</td>     <th>  Log-Likelihood:    </th> <td> -405.95</td>\n",
       "</tr>\n",
       "<tr>\n",
       "  <th>No. Observations:</th>      <td>    63</td>      <th>  AIC:               </th> <td>   815.9</td>\n",
       "</tr>\n",
       "<tr>\n",
       "  <th>Df Residuals:</th>          <td>    61</td>      <th>  BIC:               </th> <td>   820.2</td>\n",
       "</tr>\n",
       "<tr>\n",
       "  <th>Df Model:</th>              <td>     1</td>      <th>                     </th>     <td> </td>   \n",
       "</tr>\n",
       "<tr>\n",
       "  <th>Covariance Type:</th>      <td>nonrobust</td>    <th>                     </th>     <td> </td>   \n",
       "</tr>\n",
       "</table>\n",
       "<table class=\"simpletable\">\n",
       "<tr>\n",
       "    <td></td>       <th>coef</th>     <th>std err</th>      <th>t</th>      <th>P>|t|</th>  <th>[0.025</th>    <th>0.975]</th>  \n",
       "</tr>\n",
       "<tr>\n",
       "  <th>const</th> <td>  144.2402</td> <td>   41.805</td> <td>    3.450</td> <td> 0.001</td> <td>   60.646</td> <td>  227.834</td>\n",
       "</tr>\n",
       "<tr>\n",
       "  <th>Idade</th> <td>    3.2654</td> <td>    1.165</td> <td>    2.802</td> <td> 0.007</td> <td>    0.935</td> <td>    5.595</td>\n",
       "</tr>\n",
       "</table>\n",
       "<table class=\"simpletable\">\n",
       "<tr>\n",
       "  <th>Omnibus:</th>       <td>13.469</td> <th>  Durbin-Watson:     </th> <td>   1.712</td>\n",
       "</tr>\n",
       "<tr>\n",
       "  <th>Prob(Omnibus):</th> <td> 0.001</td> <th>  Jarque-Bera (JB):  </th> <td>  16.484</td>\n",
       "</tr>\n",
       "<tr>\n",
       "  <th>Skew:</th>          <td> 0.881</td> <th>  Prob(JB):          </th> <td>0.000263</td>\n",
       "</tr>\n",
       "<tr>\n",
       "  <th>Kurtosis:</th>      <td> 4.781</td> <th>  Cond. No.          </th> <td>    77.1</td>\n",
       "</tr>\n",
       "</table><br/><br/>Notes:<br/>[1] Standard Errors assume that the covariance matrix of the errors is correctly specified."
      ],
      "text/plain": [
       "<class 'statsmodels.iolib.summary.Summary'>\n",
       "\"\"\"\n",
       "                            OLS Regression Results                            \n",
       "==============================================================================\n",
       "Dep. Variable:                Minutos   R-squared:                       0.114\n",
       "Model:                            OLS   Adj. R-squared:                  0.100\n",
       "Method:                 Least Squares   F-statistic:                     7.854\n",
       "Date:                Tue, 08 Jun 2021   Prob (F-statistic):            0.00679\n",
       "Time:                        13:56:37   Log-Likelihood:                -405.95\n",
       "No. Observations:                  63   AIC:                             815.9\n",
       "Df Residuals:                      61   BIC:                             820.2\n",
       "Df Model:                           1                                         \n",
       "Covariance Type:            nonrobust                                         \n",
       "==============================================================================\n",
       "                 coef    std err          t      P>|t|      [0.025      0.975]\n",
       "------------------------------------------------------------------------------\n",
       "const        144.2402     41.805      3.450      0.001      60.646     227.834\n",
       "Idade          3.2654      1.165      2.802      0.007       0.935       5.595\n",
       "==============================================================================\n",
       "Omnibus:                       13.469   Durbin-Watson:                   1.712\n",
       "Prob(Omnibus):                  0.001   Jarque-Bera (JB):               16.484\n",
       "Skew:                           0.881   Prob(JB):                     0.000263\n",
       "Kurtosis:                       4.781   Cond. No.                         77.1\n",
       "==============================================================================\n",
       "\n",
       "Notes:\n",
       "[1] Standard Errors assume that the covariance matrix of the errors is correctly specified.\n",
       "\"\"\""
      ]
     },
     "execution_count": 39,
     "metadata": {},
     "output_type": "execute_result"
    }
   ],
   "source": [
    "modelm = sm.OLS(ym, Xm_dados)    \n",
    "\n",
    "resultsm = modelm.fit()   \n",
    "\n",
    "resultsm.summary()"
   ]
  },
  {
   "cell_type": "code",
   "execution_count": 40,
   "metadata": {},
   "outputs": [
    {
     "name": "stdout",
     "output_type": "stream",
     "text": [
      "Estimativa de beta0 (coeficente linear): 144.2402204413155\n",
      "Estimativa de beta1 (coeficente angular): 3.2654330560985634\n"
     ]
    }
   ],
   "source": [
    "bm0 = resultsm.params['const']\n",
    "bm1 = resultsm.params['Idade']\n",
    "\n",
    "print(\"Estimativa de beta0 (coeficente linear): {0}\".format(bm0))\n",
    "print(\"Estimativa de beta1 (coeficente angular): {0}\".format(bm1))"
   ]
  },
  {
   "cell_type": "code",
   "execution_count": 41,
   "metadata": {},
   "outputs": [],
   "source": [
    "resultsm.predict\n",
    "\n",
    "xm_vec = np.linspace(xm.min(), xm.max(), 500)\n",
    "ym_vec = bm0 + bm1*xf_vec"
   ]
  },
  {
   "cell_type": "markdown",
   "metadata": {},
   "source": [
    "## Gráfico maior de 28"
   ]
  },
  {
   "cell_type": "code",
   "execution_count": 42,
   "metadata": {},
   "outputs": [],
   "source": [
    "xmaior = dados_maior28['Idade']\n",
    "ymaior = dados_maior28['Minutos']\n",
    "\n",
    "Xmaior_dados = sm.add_constant(xmaior)"
   ]
  },
  {
   "cell_type": "code",
   "execution_count": 43,
   "metadata": {},
   "outputs": [
    {
     "data": {
      "text/html": [
       "<table class=\"simpletable\">\n",
       "<caption>OLS Regression Results</caption>\n",
       "<tr>\n",
       "  <th>Dep. Variable:</th>         <td>Minutos</td>     <th>  R-squared:         </th> <td>   0.019</td>\n",
       "</tr>\n",
       "<tr>\n",
       "  <th>Model:</th>                   <td>OLS</td>       <th>  Adj. R-squared:    </th> <td>   0.004</td>\n",
       "</tr>\n",
       "<tr>\n",
       "  <th>Method:</th>             <td>Least Squares</td>  <th>  F-statistic:       </th> <td>   1.239</td>\n",
       "</tr>\n",
       "<tr>\n",
       "  <th>Date:</th>             <td>Tue, 08 Jun 2021</td> <th>  Prob (F-statistic):</th>  <td> 0.270</td> \n",
       "</tr>\n",
       "<tr>\n",
       "  <th>Time:</th>                 <td>13:56:41</td>     <th>  Log-Likelihood:    </th> <td> -424.40</td>\n",
       "</tr>\n",
       "<tr>\n",
       "  <th>No. Observations:</th>      <td>    65</td>      <th>  AIC:               </th> <td>   852.8</td>\n",
       "</tr>\n",
       "<tr>\n",
       "  <th>Df Residuals:</th>          <td>    63</td>      <th>  BIC:               </th> <td>   857.2</td>\n",
       "</tr>\n",
       "<tr>\n",
       "  <th>Df Model:</th>              <td>     1</td>      <th>                     </th>     <td> </td>   \n",
       "</tr>\n",
       "<tr>\n",
       "  <th>Covariance Type:</th>      <td>nonrobust</td>    <th>                     </th>     <td> </td>   \n",
       "</tr>\n",
       "</table>\n",
       "<table class=\"simpletable\">\n",
       "<tr>\n",
       "    <td></td>       <th>coef</th>     <th>std err</th>      <th>t</th>      <th>P>|t|</th>  <th>[0.025</th>    <th>0.975]</th>  \n",
       "</tr>\n",
       "<tr>\n",
       "  <th>const</th> <td>  120.7728</td> <td>  128.819</td> <td>    0.938</td> <td> 0.352</td> <td> -136.651</td> <td>  378.197</td>\n",
       "</tr>\n",
       "<tr>\n",
       "  <th>Idade</th> <td>    2.8698</td> <td>    2.578</td> <td>    1.113</td> <td> 0.270</td> <td>   -2.282</td> <td>    8.022</td>\n",
       "</tr>\n",
       "</table>\n",
       "<table class=\"simpletable\">\n",
       "<tr>\n",
       "  <th>Omnibus:</th>       <td> 6.319</td> <th>  Durbin-Watson:     </th> <td>   1.767</td>\n",
       "</tr>\n",
       "<tr>\n",
       "  <th>Prob(Omnibus):</th> <td> 0.042</td> <th>  Jarque-Bera (JB):  </th> <td>   5.604</td>\n",
       "</tr>\n",
       "<tr>\n",
       "  <th>Skew:</th>          <td> 0.563</td> <th>  Prob(JB):          </th> <td>  0.0607</td>\n",
       "</tr>\n",
       "<tr>\n",
       "  <th>Kurtosis:</th>      <td> 3.896</td> <th>  Cond. No.          </th> <td>    308.</td>\n",
       "</tr>\n",
       "</table><br/><br/>Notes:<br/>[1] Standard Errors assume that the covariance matrix of the errors is correctly specified."
      ],
      "text/plain": [
       "<class 'statsmodels.iolib.summary.Summary'>\n",
       "\"\"\"\n",
       "                            OLS Regression Results                            \n",
       "==============================================================================\n",
       "Dep. Variable:                Minutos   R-squared:                       0.019\n",
       "Model:                            OLS   Adj. R-squared:                  0.004\n",
       "Method:                 Least Squares   F-statistic:                     1.239\n",
       "Date:                Tue, 08 Jun 2021   Prob (F-statistic):              0.270\n",
       "Time:                        13:56:41   Log-Likelihood:                -424.40\n",
       "No. Observations:                  65   AIC:                             852.8\n",
       "Df Residuals:                      63   BIC:                             857.2\n",
       "Df Model:                           1                                         \n",
       "Covariance Type:            nonrobust                                         \n",
       "==============================================================================\n",
       "                 coef    std err          t      P>|t|      [0.025      0.975]\n",
       "------------------------------------------------------------------------------\n",
       "const        120.7728    128.819      0.938      0.352    -136.651     378.197\n",
       "Idade          2.8698      2.578      1.113      0.270      -2.282       8.022\n",
       "==============================================================================\n",
       "Omnibus:                        6.319   Durbin-Watson:                   1.767\n",
       "Prob(Omnibus):                  0.042   Jarque-Bera (JB):                5.604\n",
       "Skew:                           0.563   Prob(JB):                       0.0607\n",
       "Kurtosis:                       3.896   Cond. No.                         308.\n",
       "==============================================================================\n",
       "\n",
       "Notes:\n",
       "[1] Standard Errors assume that the covariance matrix of the errors is correctly specified.\n",
       "\"\"\""
      ]
     },
     "execution_count": 43,
     "metadata": {},
     "output_type": "execute_result"
    }
   ],
   "source": [
    "modelmaior = sm.OLS(ymaior, Xmaior_dados)    \n",
    "\n",
    "resultsmaior = modelmaior.fit()   \n",
    "\n",
    "resultsmaior.summary()"
   ]
  },
  {
   "cell_type": "code",
   "execution_count": 44,
   "metadata": {},
   "outputs": [
    {
     "name": "stdout",
     "output_type": "stream",
     "text": [
      "Estimativa de beta0 (coeficente linear): 120.77283059714931\n",
      "Estimativa de beta1 (coeficente angular): 2.8698177882013405\n"
     ]
    }
   ],
   "source": [
    "bmaior0 = resultsmaior.params['const']\n",
    "bmaior1 = resultsmaior.params['Idade']\n",
    "\n",
    "print(\"Estimativa de beta0 (coeficente linear): {0}\".format(bmaior0))\n",
    "print(\"Estimativa de beta1 (coeficente angular): {0}\".format(bmaior1))"
   ]
  },
  {
   "cell_type": "code",
   "execution_count": 45,
   "metadata": {},
   "outputs": [],
   "source": [
    "resultsmaior.predict\n",
    "\n",
    " \n",
    "\n",
    "xmaior_vec = np.linspace(xmaior.min(), xmaior.max(), 500)\n",
    "ymaior_vec = bmaior0 + bmaior1*xf_vec"
   ]
  },
  {
   "cell_type": "markdown",
   "metadata": {},
   "source": [
    "## Grafico menor de 28 "
   ]
  },
  {
   "cell_type": "code",
   "execution_count": 46,
   "metadata": {},
   "outputs": [],
   "source": [
    "xmenor = dados_menor28['Idade']\n",
    "ymenor = dados_menor28['Minutos']\n",
    "\n",
    "Xmenor_dados = sm.add_constant(xmenor)"
   ]
  },
  {
   "cell_type": "code",
   "execution_count": 47,
   "metadata": {},
   "outputs": [
    {
     "data": {
      "text/html": [
       "<table class=\"simpletable\">\n",
       "<caption>OLS Regression Results</caption>\n",
       "<tr>\n",
       "  <th>Dep. Variable:</th>         <td>Minutos</td>     <th>  R-squared:         </th> <td>   0.151</td>\n",
       "</tr>\n",
       "<tr>\n",
       "  <th>Model:</th>                   <td>OLS</td>       <th>  Adj. R-squared:    </th> <td>   0.141</td>\n",
       "</tr>\n",
       "<tr>\n",
       "  <th>Method:</th>             <td>Least Squares</td>  <th>  F-statistic:       </th> <td>   13.92</td>\n",
       "</tr>\n",
       "<tr>\n",
       "  <th>Date:</th>             <td>Tue, 08 Jun 2021</td> <th>  Prob (F-statistic):</th> <td>0.000360</td>\n",
       "</tr>\n",
       "<tr>\n",
       "  <th>Time:</th>                 <td>13:56:44</td>     <th>  Log-Likelihood:    </th> <td> -511.44</td>\n",
       "</tr>\n",
       "<tr>\n",
       "  <th>No. Observations:</th>      <td>    80</td>      <th>  AIC:               </th> <td>   1027.</td>\n",
       "</tr>\n",
       "<tr>\n",
       "  <th>Df Residuals:</th>          <td>    78</td>      <th>  BIC:               </th> <td>   1032.</td>\n",
       "</tr>\n",
       "<tr>\n",
       "  <th>Df Model:</th>              <td>     1</td>      <th>                     </th>     <td> </td>   \n",
       "</tr>\n",
       "<tr>\n",
       "  <th>Covariance Type:</th>      <td>nonrobust</td>    <th>                     </th>     <td> </td>   \n",
       "</tr>\n",
       "</table>\n",
       "<table class=\"simpletable\">\n",
       "<tr>\n",
       "    <td></td>       <th>coef</th>     <th>std err</th>      <th>t</th>      <th>P>|t|</th>  <th>[0.025</th>    <th>0.975]</th>  \n",
       "</tr>\n",
       "<tr>\n",
       "  <th>const</th> <td>  708.6112</td> <td>  132.467</td> <td>    5.349</td> <td> 0.000</td> <td>  444.890</td> <td>  972.332</td>\n",
       "</tr>\n",
       "<tr>\n",
       "  <th>Idade</th> <td>  -25.8799</td> <td>    6.937</td> <td>   -3.731</td> <td> 0.000</td> <td>  -39.690</td> <td>  -12.070</td>\n",
       "</tr>\n",
       "</table>\n",
       "<table class=\"simpletable\">\n",
       "<tr>\n",
       "  <th>Omnibus:</th>       <td> 2.372</td> <th>  Durbin-Watson:     </th> <td>   1.895</td>\n",
       "</tr>\n",
       "<tr>\n",
       "  <th>Prob(Omnibus):</th> <td> 0.306</td> <th>  Jarque-Bera (JB):  </th> <td>   2.338</td>\n",
       "</tr>\n",
       "<tr>\n",
       "  <th>Skew:</th>          <td> 0.366</td> <th>  Prob(JB):          </th> <td>   0.311</td>\n",
       "</tr>\n",
       "<tr>\n",
       "  <th>Kurtosis:</th>      <td> 2.592</td> <th>  Cond. No.          </th> <td>    155.</td>\n",
       "</tr>\n",
       "</table><br/><br/>Notes:<br/>[1] Standard Errors assume that the covariance matrix of the errors is correctly specified."
      ],
      "text/plain": [
       "<class 'statsmodels.iolib.summary.Summary'>\n",
       "\"\"\"\n",
       "                            OLS Regression Results                            \n",
       "==============================================================================\n",
       "Dep. Variable:                Minutos   R-squared:                       0.151\n",
       "Model:                            OLS   Adj. R-squared:                  0.141\n",
       "Method:                 Least Squares   F-statistic:                     13.92\n",
       "Date:                Tue, 08 Jun 2021   Prob (F-statistic):           0.000360\n",
       "Time:                        13:56:44   Log-Likelihood:                -511.44\n",
       "No. Observations:                  80   AIC:                             1027.\n",
       "Df Residuals:                      78   BIC:                             1032.\n",
       "Df Model:                           1                                         \n",
       "Covariance Type:            nonrobust                                         \n",
       "==============================================================================\n",
       "                 coef    std err          t      P>|t|      [0.025      0.975]\n",
       "------------------------------------------------------------------------------\n",
       "const        708.6112    132.467      5.349      0.000     444.890     972.332\n",
       "Idade        -25.8799      6.937     -3.731      0.000     -39.690     -12.070\n",
       "==============================================================================\n",
       "Omnibus:                        2.372   Durbin-Watson:                   1.895\n",
       "Prob(Omnibus):                  0.306   Jarque-Bera (JB):                2.338\n",
       "Skew:                           0.366   Prob(JB):                        0.311\n",
       "Kurtosis:                       2.592   Cond. No.                         155.\n",
       "==============================================================================\n",
       "\n",
       "Notes:\n",
       "[1] Standard Errors assume that the covariance matrix of the errors is correctly specified.\n",
       "\"\"\""
      ]
     },
     "execution_count": 47,
     "metadata": {},
     "output_type": "execute_result"
    }
   ],
   "source": [
    "model = sm.OLS(ymenor, Xmenor_dados)    \n",
    "\n",
    "resultsmenor = model.fit()   \n",
    "\n",
    "resultsmenor.summary()"
   ]
  },
  {
   "cell_type": "code",
   "execution_count": 48,
   "metadata": {},
   "outputs": [
    {
     "name": "stdout",
     "output_type": "stream",
     "text": [
      "Estimativa de beta0 (coeficente linear): 708.6112045760433\n",
      "Estimativa de beta1 (coeficente angular): -25.8798788694482\n"
     ]
    }
   ],
   "source": [
    "bmenor0 = resultsmenor.params['const']\n",
    "bmenor1 = resultsmenor.params['Idade']\n",
    "\n",
    "print(\"Estimativa de beta0 (coeficente linear): {0}\".format(bmenor0))\n",
    "print(\"Estimativa de beta1 (coeficente angular): {0}\".format(bmenor1))"
   ]
  },
  {
   "cell_type": "code",
   "execution_count": 49,
   "metadata": {},
   "outputs": [],
   "source": [
    "resultsmenor.predict\n",
    "\n",
    " \n",
    "xmenor_vec = np.linspace(xmenor.min(), xmenor.max(), 500)\n",
    "ymenor_vec = bmenor0 + bmenor1*xf_vec\n"
   ]
  },
  {
   "cell_type": "code",
   "execution_count": 50,
   "metadata": {
    "scrolled": true
   },
   "outputs": [
    {
     "data": {
      "image/png": "[encoded data removed]",
      "text/plain": [
       "<Figure size 1008x864 with 4 Axes>"
      ]
     },
     "metadata": {
      "needs_background": "light"
     },
     "output_type": "display_data"
    }
   ],
   "source": [
    "plt.figure(figsize=(14,12))\n",
    "\n",
    "plt.subplot(221)\n",
    "plt.plot(xf_vec,yf_vec, color=\"r\") # resultados da regressão\n",
    "plt.scatter(xf, yf); # dados\n",
    "plt.title('Gráfico da reta ajustada para a população Feminina')\n",
    "plt.xlabel(\"x: Idade\")\n",
    "plt.ylabel(\"y: Minutos\")\n",
    "plt.legend(('reta ajustada','dados'), bbox_to_anchor=(1.05, 1), borderaxespad=0.)\n",
    "\n",
    "plt.subplot(222)\n",
    "plt.plot(xm_vec,ym_vec, color=\"r\") # resultados da regressão\n",
    "plt.scatter(xm, ym); # dados\n",
    "plt.title('Gráfico da reta ajustada para a população Masculina')\n",
    "plt.xlabel(\"x: Idade\")\n",
    "plt.ylabel(\"y: Minutos\")\n",
    "plt.legend(('reta ajustada','dados'), bbox_to_anchor=(1.05, 1), borderaxespad=0.)\n",
    "\n",
    "plt.subplot(223)\n",
    "plt.plot(xmaior_vec,ymaior_vec, color=\"r\") # resultados da regressão\n",
    "plt.scatter(xmaior, ymaior); # dados\n",
    "plt.title('Gráfico da reta ajustada para a população maior de 28 anos')\n",
    "plt.xlabel(\"x: Idade\")\n",
    "plt.ylabel(\"y: Minutos\")\n",
    "plt.legend(('reta ajustada','dados'), bbox_to_anchor=(1.05, 1), borderaxespad=0.)\n",
    "\n",
    "plt.subplot(224)\n",
    "plt.plot(xmenor_vec,ymenor_vec, color=\"r\") # resultados da regressão\n",
    "plt.scatter(xmenor, ymenor); # dados\n",
    "plt.title('Gráfico da reta ajustada para a população menor de 28 anos')\n",
    "plt.xlabel(\"x: Idade\")\n",
    "plt.ylabel(\"y: Minutos\")\n",
    "plt.legend(('reta ajustada','dados'), bbox_to_anchor=(1.05, 1), borderaxespad=0.)\n",
    "plt.show()"
   ]
  },
  {
   "cell_type": "markdown",
   "metadata": {},
   "source": [
    "##  Modelo Regressão Linear Múltipla"
   ]
  },
  {
   "cell_type": "code",
   "execution_count": 51,
   "metadata": {},
   "outputs": [
    {
     "data": {
      "text/html": [
       "<div>\n",
       "<style scoped>\n",
       "    .dataframe tbody tr th:only-of-type {\n",
       "        vertical-align: middle;\n",
       "    }\n",
       "\n",
       "    .dataframe tbody tr th {\n",
       "        vertical-align: top;\n",
       "    }\n",
       "\n",
       "    .dataframe thead th {\n",
       "        text-align: right;\n",
       "    }\n",
       "</style>\n",
       "<table border=\"1\" class=\"dataframe\">\n",
       "  <thead>\n",
       "    <tr style=\"text-align: right;\">\n",
       "      <th></th>\n",
       "      <th>Idade</th>\n",
       "      <th>Sexo</th>\n",
       "      <th>Ativa</th>\n",
       "      <th>Minutos</th>\n",
       "      <th>Influenciou</th>\n",
       "      <th>Superar</th>\n",
       "      <th>Vontade</th>\n",
       "      <th>Sexo_index</th>\n",
       "      <th>Ativa_index</th>\n",
       "      <th>Influenciou_index</th>\n",
       "      <th>Superar_index</th>\n",
       "      <th>Vontade_index</th>\n",
       "    </tr>\n",
       "  </thead>\n",
       "  <tbody>\n",
       "    <tr>\n",
       "      <th>0</th>\n",
       "      <td>18</td>\n",
       "      <td>Feminino</td>\n",
       "      <td>Não</td>\n",
       "      <td>70</td>\n",
       "      <td>Sim</td>\n",
       "      <td>Comecei a fazer exercícios em casa</td>\n",
       "      <td>Talvez</td>\n",
       "      <td>0</td>\n",
       "      <td>0</td>\n",
       "      <td>1</td>\n",
       "      <td>0</td>\n",
       "      <td>2</td>\n",
       "    </tr>\n",
       "    <tr>\n",
       "      <th>1</th>\n",
       "      <td>17</td>\n",
       "      <td>Masculino</td>\n",
       "      <td>Talvez</td>\n",
       "      <td>30</td>\n",
       "      <td>Não</td>\n",
       "      <td>Outros</td>\n",
       "      <td>Sim</td>\n",
       "      <td>1</td>\n",
       "      <td>2</td>\n",
       "      <td>0</td>\n",
       "      <td>4</td>\n",
       "      <td>1</td>\n",
       "    </tr>\n",
       "    <tr>\n",
       "      <th>2</th>\n",
       "      <td>18</td>\n",
       "      <td>Masculino</td>\n",
       "      <td>Sim</td>\n",
       "      <td>300</td>\n",
       "      <td>Sim</td>\n",
       "      <td>Fiquei dependente à reabertura das academias</td>\n",
       "      <td>Sim</td>\n",
       "      <td>1</td>\n",
       "      <td>1</td>\n",
       "      <td>1</td>\n",
       "      <td>3</td>\n",
       "      <td>1</td>\n",
       "    </tr>\n",
       "    <tr>\n",
       "      <th>3</th>\n",
       "      <td>17</td>\n",
       "      <td>Feminino</td>\n",
       "      <td>Não</td>\n",
       "      <td>120</td>\n",
       "      <td>Sim</td>\n",
       "      <td>Comecei a fazer exercícios em casa</td>\n",
       "      <td>Sim</td>\n",
       "      <td>0</td>\n",
       "      <td>0</td>\n",
       "      <td>1</td>\n",
       "      <td>0</td>\n",
       "      <td>1</td>\n",
       "    </tr>\n",
       "    <tr>\n",
       "      <th>4</th>\n",
       "      <td>18</td>\n",
       "      <td>Feminino</td>\n",
       "      <td>Talvez</td>\n",
       "      <td>140</td>\n",
       "      <td>Sim</td>\n",
       "      <td>Comecei a fazer exercícios em casa</td>\n",
       "      <td>Não</td>\n",
       "      <td>0</td>\n",
       "      <td>2</td>\n",
       "      <td>1</td>\n",
       "      <td>0</td>\n",
       "      <td>0</td>\n",
       "    </tr>\n",
       "    <tr>\n",
       "      <th>...</th>\n",
       "      <td>...</td>\n",
       "      <td>...</td>\n",
       "      <td>...</td>\n",
       "      <td>...</td>\n",
       "      <td>...</td>\n",
       "      <td>...</td>\n",
       "      <td>...</td>\n",
       "      <td>...</td>\n",
       "      <td>...</td>\n",
       "      <td>...</td>\n",
       "      <td>...</td>\n",
       "      <td>...</td>\n",
       "    </tr>\n",
       "    <tr>\n",
       "      <th>163</th>\n",
       "      <td>17</td>\n",
       "      <td>Feminino</td>\n",
       "      <td>Sim</td>\n",
       "      <td>600</td>\n",
       "      <td>Sim</td>\n",
       "      <td>Comecei a fazer exercícios em casa</td>\n",
       "      <td>Talvez</td>\n",
       "      <td>0</td>\n",
       "      <td>1</td>\n",
       "      <td>1</td>\n",
       "      <td>0</td>\n",
       "      <td>2</td>\n",
       "    </tr>\n",
       "    <tr>\n",
       "      <th>164</th>\n",
       "      <td>43</td>\n",
       "      <td>Feminino</td>\n",
       "      <td>Sim</td>\n",
       "      <td>300</td>\n",
       "      <td>Sim</td>\n",
       "      <td>Comecei a fazer exercícios em casa</td>\n",
       "      <td>Não</td>\n",
       "      <td>0</td>\n",
       "      <td>1</td>\n",
       "      <td>1</td>\n",
       "      <td>0</td>\n",
       "      <td>0</td>\n",
       "    </tr>\n",
       "    <tr>\n",
       "      <th>165</th>\n",
       "      <td>56</td>\n",
       "      <td>Feminino</td>\n",
       "      <td>Sim</td>\n",
       "      <td>360</td>\n",
       "      <td>Sim</td>\n",
       "      <td>Comecei a fazer exercícios em casa</td>\n",
       "      <td>Sim</td>\n",
       "      <td>0</td>\n",
       "      <td>1</td>\n",
       "      <td>1</td>\n",
       "      <td>0</td>\n",
       "      <td>1</td>\n",
       "    </tr>\n",
       "    <tr>\n",
       "      <th>166</th>\n",
       "      <td>19</td>\n",
       "      <td>Feminino</td>\n",
       "      <td>Sim</td>\n",
       "      <td>200</td>\n",
       "      <td>Sim</td>\n",
       "      <td>Comecei a fazer exercícios em casa</td>\n",
       "      <td>Sim</td>\n",
       "      <td>0</td>\n",
       "      <td>1</td>\n",
       "      <td>1</td>\n",
       "      <td>0</td>\n",
       "      <td>1</td>\n",
       "    </tr>\n",
       "    <tr>\n",
       "      <th>168</th>\n",
       "      <td>43</td>\n",
       "      <td>Masculino</td>\n",
       "      <td>Sim</td>\n",
       "      <td>360</td>\n",
       "      <td>Sim</td>\n",
       "      <td>Comecei a fazer exercícios em casa</td>\n",
       "      <td>Sim</td>\n",
       "      <td>1</td>\n",
       "      <td>1</td>\n",
       "      <td>1</td>\n",
       "      <td>0</td>\n",
       "      <td>1</td>\n",
       "    </tr>\n",
       "  </tbody>\n",
       "</table>\n",
       "<p>145 rows × 12 columns</p>\n",
       "</div>"
      ],
      "text/plain": [
       "     Idade       Sexo   Ativa  Minutos Influenciou  \\\n",
       "0       18   Feminino     Não       70         Sim   \n",
       "1       17  Masculino  Talvez       30         Não   \n",
       "2       18  Masculino     Sim      300         Sim   \n",
       "3       17   Feminino     Não      120         Sim   \n",
       "4       18   Feminino  Talvez      140         Sim   \n",
       "..     ...        ...     ...      ...         ...   \n",
       "163     17   Feminino     Sim      600         Sim   \n",
       "164     43   Feminino     Sim      300         Sim   \n",
       "165     56   Feminino     Sim      360         Sim   \n",
       "166     19   Feminino     Sim      200         Sim   \n",
       "168     43  Masculino     Sim      360         Sim   \n",
       "\n",
       "                                          Superar Vontade  Sexo_index  \\\n",
       "0              Comecei a fazer exercícios em casa  Talvez           0   \n",
       "1                                          Outros     Sim           1   \n",
       "2    Fiquei dependente à reabertura das academias     Sim           1   \n",
       "3              Comecei a fazer exercícios em casa     Sim           0   \n",
       "4              Comecei a fazer exercícios em casa     Não           0   \n",
       "..                                            ...     ...         ...   \n",
       "163            Comecei a fazer exercícios em casa  Talvez           0   \n",
       "164            Comecei a fazer exercícios em casa     Não           0   \n",
       "165            Comecei a fazer exercícios em casa     Sim           0   \n",
       "166            Comecei a fazer exercícios em casa     Sim           0   \n",
       "168            Comecei a fazer exercícios em casa     Sim           1   \n",
       "\n",
       "     Ativa_index  Influenciou_index  Superar_index  Vontade_index  \n",
       "0              0                  1              0              2  \n",
       "1              2                  0              4              1  \n",
       "2              1                  1              3              1  \n",
       "3              0                  1              0              1  \n",
       "4              2                  1              0              0  \n",
       "..           ...                ...            ...            ...  \n",
       "163            1                  1              0              2  \n",
       "164            1                  1              0              0  \n",
       "165            1                  1              0              1  \n",
       "166            1                  1              0              1  \n",
       "168            1                  1              0              1  \n",
       "\n",
       "[145 rows x 12 columns]"
      ]
     },
     "execution_count": 51,
     "metadata": {},
     "output_type": "execute_result"
    }
   ],
   "source": [
    "dados['Sexo_index'] = dados.Sexo.map({'Feminino':0,'Masculino':1, 'Outro':1})\n",
    "dados['Ativa_index'] = dados.Ativa.map({'Não':0,'Sim':1,'Talvez':2})\n",
    "dados['Influenciou_index'] = dados.Influenciou.map({'Não':0,'Sim':1 })\n",
    "dados['Superar_index'] = dados. Superar.map({'Comecei a fazer exercícios em casa':0,'Dei preferência a atividades individuais':1,'Consegui continuar com o mesmo plano de exercícios que já tinha':2,'Fiquei dependente à reabertura das academias':3,'Outros':4})\n",
    "dados['Vontade_index'] = dados.Vontade.map({'Não':0,'Sim':1,'Talvez':2})\n",
    "dados.dropna()\n",
    "dados"
   ]
  },
  {
   "cell_type": "code",
   "execution_count": 52,
   "metadata": {},
   "outputs": [],
   "source": [
    "Y = dados['Minutos']\n",
    "X = dados[['Idade','Sexo_index', 'Ativa_index', 'Influenciou_index', 'Superar_index', 'Vontade_index']]\n"
   ]
  },
  {
   "cell_type": "code",
   "execution_count": 53,
   "metadata": {},
   "outputs": [],
   "source": [
    "from sklearn.model_selection import train_test_split\n",
    "X_train, X_test, y_train, y_test = train_test_split(X, Y, test_size=1/3, random_state=101)\n"
   ]
  },
  {
   "cell_type": "code",
   "execution_count": 54,
   "metadata": {},
   "outputs": [
    {
     "data": {
      "text/html": [
       "<table class=\"simpletable\">\n",
       "<caption>OLS Regression Results</caption>\n",
       "<tr>\n",
       "  <th>Dep. Variable:</th>         <td>Minutos</td>     <th>  R-squared (uncentered):</th>      <td>   0.757</td>\n",
       "</tr>\n",
       "<tr>\n",
       "  <th>Model:</th>                   <td>OLS</td>       <th>  Adj. R-squared (uncentered):</th> <td>   0.741</td>\n",
       "</tr>\n",
       "<tr>\n",
       "  <th>Method:</th>             <td>Least Squares</td>  <th>  F-statistic:       </th>          <td>   46.84</td>\n",
       "</tr>\n",
       "<tr>\n",
       "  <th>Date:</th>             <td>Tue, 08 Jun 2021</td> <th>  Prob (F-statistic):</th>          <td>1.30e-25</td>\n",
       "</tr>\n",
       "<tr>\n",
       "  <th>Time:</th>                 <td>13:56:56</td>     <th>  Log-Likelihood:    </th>          <td> -614.01</td>\n",
       "</tr>\n",
       "<tr>\n",
       "  <th>No. Observations:</th>      <td>    96</td>      <th>  AIC:               </th>          <td>   1240.</td>\n",
       "</tr>\n",
       "<tr>\n",
       "  <th>Df Residuals:</th>          <td>    90</td>      <th>  BIC:               </th>          <td>   1255.</td>\n",
       "</tr>\n",
       "<tr>\n",
       "  <th>Df Model:</th>              <td>     6</td>      <th>                     </th>              <td> </td>   \n",
       "</tr>\n",
       "<tr>\n",
       "  <th>Covariance Type:</th>      <td>nonrobust</td>    <th>                     </th>              <td> </td>   \n",
       "</tr>\n",
       "</table>\n",
       "<table class=\"simpletable\">\n",
       "<tr>\n",
       "          <td></td>             <th>coef</th>     <th>std err</th>      <th>t</th>      <th>P>|t|</th>  <th>[0.025</th>    <th>0.975]</th>  \n",
       "</tr>\n",
       "<tr>\n",
       "  <th>Idade</th>             <td>    2.3185</td> <td>    0.763</td> <td>    3.037</td> <td> 0.003</td> <td>    0.802</td> <td>    3.835</td>\n",
       "</tr>\n",
       "<tr>\n",
       "  <th>Sexo_index</th>        <td>   46.5482</td> <td>   31.779</td> <td>    1.465</td> <td> 0.146</td> <td>  -16.587</td> <td>  109.684</td>\n",
       "</tr>\n",
       "<tr>\n",
       "  <th>Ativa_index</th>       <td>  126.7121</td> <td>   28.120</td> <td>    4.506</td> <td> 0.000</td> <td>   70.847</td> <td>  182.577</td>\n",
       "</tr>\n",
       "<tr>\n",
       "  <th>Influenciou_index</th> <td>   18.3080</td> <td>   32.198</td> <td>    0.569</td> <td> 0.571</td> <td>  -45.658</td> <td>   82.274</td>\n",
       "</tr>\n",
       "<tr>\n",
       "  <th>Superar_index</th>     <td>  -27.3598</td> <td>    9.282</td> <td>   -2.947</td> <td> 0.004</td> <td>  -45.801</td> <td>   -8.919</td>\n",
       "</tr>\n",
       "<tr>\n",
       "  <th>Vontade_index</th>     <td>   58.8751</td> <td>   28.279</td> <td>    2.082</td> <td> 0.040</td> <td>    2.694</td> <td>  115.057</td>\n",
       "</tr>\n",
       "</table>\n",
       "<table class=\"simpletable\">\n",
       "<tr>\n",
       "  <th>Omnibus:</th>       <td> 3.758</td> <th>  Durbin-Watson:     </th> <td>   1.811</td>\n",
       "</tr>\n",
       "<tr>\n",
       "  <th>Prob(Omnibus):</th> <td> 0.153</td> <th>  Jarque-Bera (JB):  </th> <td>   3.208</td>\n",
       "</tr>\n",
       "<tr>\n",
       "  <th>Skew:</th>          <td> 0.307</td> <th>  Prob(JB):          </th> <td>   0.201</td>\n",
       "</tr>\n",
       "<tr>\n",
       "  <th>Kurtosis:</th>      <td> 3.652</td> <th>  Cond. No.          </th> <td>    85.3</td>\n",
       "</tr>\n",
       "</table><br/><br/>Notes:<br/>[1] R² is computed without centering (uncentered) since the model does not contain a constant.<br/>[2] Standard Errors assume that the covariance matrix of the errors is correctly specified."
      ],
      "text/plain": [
       "<class 'statsmodels.iolib.summary.Summary'>\n",
       "\"\"\"\n",
       "                                 OLS Regression Results                                \n",
       "=======================================================================================\n",
       "Dep. Variable:                Minutos   R-squared (uncentered):                   0.757\n",
       "Model:                            OLS   Adj. R-squared (uncentered):              0.741\n",
       "Method:                 Least Squares   F-statistic:                              46.84\n",
       "Date:                Tue, 08 Jun 2021   Prob (F-statistic):                    1.30e-25\n",
       "Time:                        13:56:56   Log-Likelihood:                         -614.01\n",
       "No. Observations:                  96   AIC:                                      1240.\n",
       "Df Residuals:                      90   BIC:                                      1255.\n",
       "Df Model:                           6                                                  \n",
       "Covariance Type:            nonrobust                                                  \n",
       "=====================================================================================\n",
       "                        coef    std err          t      P>|t|      [0.025      0.975]\n",
       "-------------------------------------------------------------------------------------\n",
       "Idade                 2.3185      0.763      3.037      0.003       0.802       3.835\n",
       "Sexo_index           46.5482     31.779      1.465      0.146     -16.587     109.684\n",
       "Ativa_index         126.7121     28.120      4.506      0.000      70.847     182.577\n",
       "Influenciou_index    18.3080     32.198      0.569      0.571     -45.658      82.274\n",
       "Superar_index       -27.3598      9.282     -2.947      0.004     -45.801      -8.919\n",
       "Vontade_index        58.8751     28.279      2.082      0.040       2.694     115.057\n",
       "==============================================================================\n",
       "Omnibus:                        3.758   Durbin-Watson:                   1.811\n",
       "Prob(Omnibus):                  0.153   Jarque-Bera (JB):                3.208\n",
       "Skew:                           0.307   Prob(JB):                        0.201\n",
       "Kurtosis:                       3.652   Cond. No.                         85.3\n",
       "==============================================================================\n",
       "\n",
       "Notes:\n",
       "[1] R² is computed without centering (uncentered) since the model does not contain a constant.\n",
       "[2] Standard Errors assume that the covariance matrix of the errors is correctly specified.\n",
       "\"\"\""
      ]
     },
     "execution_count": 54,
     "metadata": {},
     "output_type": "execute_result"
    }
   ],
   "source": [
    "model = sm.OLS(y_train, X_train)    \n",
    "\n",
    "results = model.fit()   \n",
    "\n",
    "results.summary()  "
   ]
  },
  {
   "cell_type": "code",
   "execution_count": 55,
   "metadata": {},
   "outputs": [],
   "source": [
    "b0 = results.params[0] # Idade\n",
    "b1 = results.params[1] # Sexo_index\n",
    "b2 = results.params[2] # Ativa_index\n",
    "b3 = results.params[3] # Influenciou_index\n",
    "b4 = results.params[4] # Superar_index\n",
    "b5 = results.params[5] # Vontade_index\n"
   ]
  },
  {
   "cell_type": "code",
   "execution_count": 56,
   "metadata": {},
   "outputs": [
    {
     "data": {
      "text/plain": [
       "LinearRegression()"
      ]
     },
     "execution_count": 56,
     "metadata": {},
     "output_type": "execute_result"
    }
   ],
   "source": [
    "from sklearn.linear_model import LinearRegression\n",
    "model = LinearRegression()\n",
    "model.fit(X_train,y_train)"
   ]
  },
  {
   "cell_type": "code",
   "execution_count": 57,
   "metadata": {},
   "outputs": [
    {
     "data": {
      "text/html": [
       "<div>\n",
       "<style scoped>\n",
       "    .dataframe tbody tr th:only-of-type {\n",
       "        vertical-align: middle;\n",
       "    }\n",
       "\n",
       "    .dataframe tbody tr th {\n",
       "        vertical-align: top;\n",
       "    }\n",
       "\n",
       "    .dataframe thead th {\n",
       "        text-align: right;\n",
       "    }\n",
       "</style>\n",
       "<table border=\"1\" class=\"dataframe\">\n",
       "  <thead>\n",
       "    <tr style=\"text-align: right;\">\n",
       "      <th></th>\n",
       "      <th>Coefficient</th>\n",
       "    </tr>\n",
       "  </thead>\n",
       "  <tbody>\n",
       "    <tr>\n",
       "      <th>Idade</th>\n",
       "      <td>0.716898</td>\n",
       "    </tr>\n",
       "    <tr>\n",
       "      <th>Sexo_index</th>\n",
       "      <td>36.664835</td>\n",
       "    </tr>\n",
       "    <tr>\n",
       "      <th>Ativa_index</th>\n",
       "      <td>106.225698</td>\n",
       "    </tr>\n",
       "    <tr>\n",
       "      <th>Influenciou_index</th>\n",
       "      <td>-23.896048</td>\n",
       "    </tr>\n",
       "    <tr>\n",
       "      <th>Superar_index</th>\n",
       "      <td>-36.736323</td>\n",
       "    </tr>\n",
       "    <tr>\n",
       "      <th>Vontade_index</th>\n",
       "      <td>19.518166</td>\n",
       "    </tr>\n",
       "  </tbody>\n",
       "</table>\n",
       "</div>"
      ],
      "text/plain": [
       "                   Coefficient\n",
       "Idade                 0.716898\n",
       "Sexo_index           36.664835\n",
       "Ativa_index         106.225698\n",
       "Influenciou_index   -23.896048\n",
       "Superar_index       -36.736323\n",
       "Vontade_index        19.518166"
      ]
     },
     "execution_count": 57,
     "metadata": {},
     "output_type": "execute_result"
    }
   ],
   "source": [
    "coeff_parameter = pd.DataFrame(model.coef_,X.columns,columns=['Coefficient'])\n",
    "coeff_parameter"
   ]
  },
  {
   "cell_type": "code",
   "execution_count": 58,
   "metadata": {},
   "outputs": [],
   "source": [
    "predictions = model.predict(X_test)\n"
   ]
  },
  {
   "cell_type": "code",
   "execution_count": 59,
   "metadata": {
    "scrolled": false
   },
   "outputs": [
    {
     "name": "stderr",
     "output_type": "stream",
     "text": [
      "C:\\Users\\gabri\\anaconda3\\lib\\site-packages\\seaborn\\_decorators.py:36: FutureWarning: Pass the following variables as keyword args: x, y. From version 0.12, the only valid positional argument will be `data`, and passing other arguments without an explicit keyword will result in an error or misinterpretation.\n",
      "  warnings.warn(\n"
     ]
    },
    {
     "data": {
      "text/plain": [
       "<AxesSubplot:xlabel='Minutos'>"
      ]
     },
     "execution_count": 59,
     "metadata": {},
     "output_type": "execute_result"
    },
    {
     "data": {
      "image/png": "[encoded data removed]",
      "text/plain": [
       "<Figure size 432x288 with 1 Axes>"
      ]
     },
     "metadata": {
      "needs_background": "light"
     },
     "output_type": "display_data"
    }
   ],
   "source": [
    "sns.regplot(y_test,predictions)"
   ]
  },
  {
   "cell_type": "markdown",
   "metadata": {},
   "source": [
    "### $R^2$\n",
    "\n",
    " \n",
    "\n",
    "Chamado de Coeficiente de Determinação, é um parametro cujo intuito é calcular a porcentagem da variança calculada pelo modelo de regressão, ou seja, ele dá uma estimativa do qual próximo da realidade o modelo chega.\n",
    "\n",
    "Pode ser calculado atravez da equação:\n",
    "\n",
    "$$ R^2 = 1 - \\frac{SS_E}{SS_T}$$\n",
    "\n",
    "Onde, variança dos residuos pode ser calculado por:\n",
    "\n",
    "$$SS_{E}=\\sum\\limits^{n}_{i=1}(y_i-\\hat{y}_i)^2=\\sum\\limits_{i=1}^{n}\\epsilon^2_{i}$$\n",
    "\n",
    "E a variança total por:\n",
    "\n",
    "$$SS_{T}=\\sum\\limits^{n}_{i=1}(y_i-\\bar{y})^2$$"
   ]
  },
  {
   "cell_type": "markdown",
   "metadata": {},
   "source": [
    "É uma medida de quão bem uma regressão capta a variação presente nos dados, ou parafraseando, o quanto de variabilidade nos dados é explicada pelo modelo de regressão.\n",
    "    \n",
    "Varia entre 0 e 1, ou 0 a 100%, e indica a quantidade de dados do total que se encaixam no modelo de regressão.\n",
    "Nem sempre um R-Squared alto indicará a qualidade do modelo de regressão, isso acontece porque existem diversos outros fatores que podem influenciar no modelo."
   ]
  },
  {
   "cell_type": "markdown",
   "metadata": {},
   "source": [
    "### Observação dos resultados"
   ]
  },
  {
   "cell_type": "code",
   "execution_count": 60,
   "metadata": {},
   "outputs": [
    {
     "data": {
      "text/html": [
       "<div>\n",
       "<style scoped>\n",
       "    .dataframe tbody tr th:only-of-type {\n",
       "        vertical-align: middle;\n",
       "    }\n",
       "\n",
       "    .dataframe tbody tr th {\n",
       "        vertical-align: top;\n",
       "    }\n",
       "\n",
       "    .dataframe thead th {\n",
       "        text-align: right;\n",
       "    }\n",
       "</style>\n",
       "<table border=\"1\" class=\"dataframe\">\n",
       "  <thead>\n",
       "    <tr style=\"text-align: right;\">\n",
       "      <th></th>\n",
       "      <th>Valores Reais</th>\n",
       "      <th>Valores Preditos</th>\n",
       "    </tr>\n",
       "  </thead>\n",
       "  <tbody>\n",
       "    <tr>\n",
       "      <th>72</th>\n",
       "      <td>180</td>\n",
       "      <td>279.382744</td>\n",
       "    </tr>\n",
       "    <tr>\n",
       "      <th>164</th>\n",
       "      <td>300</td>\n",
       "      <td>277.141625</td>\n",
       "    </tr>\n",
       "    <tr>\n",
       "      <th>17</th>\n",
       "      <td>15</td>\n",
       "      <td>348.943606</td>\n",
       "    </tr>\n",
       "    <tr>\n",
       "      <th>74</th>\n",
       "      <td>150</td>\n",
       "      <td>167.739979</td>\n",
       "    </tr>\n",
       "    <tr>\n",
       "      <th>133</th>\n",
       "      <td>180</td>\n",
       "      <td>347.242988</td>\n",
       "    </tr>\n",
       "    <tr>\n",
       "      <th>147</th>\n",
       "      <td>300</td>\n",
       "      <td>311.088181</td>\n",
       "    </tr>\n",
       "    <tr>\n",
       "      <th>26</th>\n",
       "      <td>60</td>\n",
       "      <td>259.936065</td>\n",
       "    </tr>\n",
       "    <tr>\n",
       "      <th>33</th>\n",
       "      <td>120</td>\n",
       "      <td>170.199029</td>\n",
       "    </tr>\n",
       "    <tr>\n",
       "      <th>57</th>\n",
       "      <td>300</td>\n",
       "      <td>231.718437</td>\n",
       "    </tr>\n",
       "    <tr>\n",
       "      <th>77</th>\n",
       "      <td>180</td>\n",
       "      <td>317.552863</td>\n",
       "    </tr>\n",
       "  </tbody>\n",
       "</table>\n",
       "</div>"
      ],
      "text/plain": [
       "     Valores Reais  Valores Preditos\n",
       "72             180        279.382744\n",
       "164            300        277.141625\n",
       "17              15        348.943606\n",
       "74             150        167.739979\n",
       "133            180        347.242988\n",
       "147            300        311.088181\n",
       "26              60        259.936065\n",
       "33             120        170.199029\n",
       "57             300        231.718437\n",
       "77             180        317.552863"
      ]
     },
     "execution_count": 60,
     "metadata": {},
     "output_type": "execute_result"
    }
   ],
   "source": [
    "validacao = pd.DataFrame()\n",
    "validacao['Valores Reais'] = y_test\n",
    "validacao['Valores Preditos'] = predictions\n",
    "validacao.head(10)"
   ]
  },
  {
   "cell_type": "markdown",
   "metadata": {},
   "source": [
    "## Decision Tree"
   ]
  },
  {
   "cell_type": "code",
   "execution_count": 61,
   "metadata": {},
   "outputs": [],
   "source": [
    "from sklearn.tree import DecisionTreeRegressor"
   ]
  },
  {
   "cell_type": "code",
   "execution_count": 62,
   "metadata": {},
   "outputs": [],
   "source": [
    "model = DecisionTreeRegressor()\n"
   ]
  },
  {
   "cell_type": "code",
   "execution_count": 64,
   "metadata": {},
   "outputs": [
    {
     "data": {
      "text/plain": [
       "DecisionTreeRegressor()"
      ]
     },
     "execution_count": 64,
     "metadata": {},
     "output_type": "execute_result"
    }
   ],
   "source": [
    "model.fit(X_train,y_train)"
   ]
  },
  {
   "cell_type": "code",
   "execution_count": 67,
   "metadata": {},
   "outputs": [
    {
     "data": {
      "text/plain": [
       "array([480., 300., 180., 150., 180., 240., 185.,  60., 350., 300., 480.,\n",
       "       300., 240., 450.,  60., 120., 300., 120., 180., 360., 240., 500.,\n",
       "       360., 300., 360., 300.,  20., 420., 360., 300., 300., 500.,   0.,\n",
       "       120., 300.,  30., 180., 240., 360.,  60., 180.,  60., 300., 240.,\n",
       "       180., 510., 480., 180., 300.])"
      ]
     },
     "execution_count": 67,
     "metadata": {},
     "output_type": "execute_result"
    }
   ],
   "source": [
    "predictions = model.predict(X_test)\n",
    "predictions"
   ]
  },
  {
   "cell_type": "code",
   "execution_count": 68,
   "metadata": {},
   "outputs": [
    {
     "name": "stderr",
     "output_type": "stream",
     "text": [
      "C:\\Users\\gabri\\anaconda3\\lib\\site-packages\\seaborn\\_decorators.py:36: FutureWarning: Pass the following variables as keyword args: x, y. From version 0.12, the only valid positional argument will be `data`, and passing other arguments without an explicit keyword will result in an error or misinterpretation.\n",
      "  warnings.warn(\n"
     ]
    },
    {
     "data": {
      "text/plain": [
       "<AxesSubplot:xlabel='Minutos'>"
      ]
     },
     "execution_count": 68,
     "metadata": {},
     "output_type": "execute_result"
    },
    {
     "data": {
      "image/png": "[encoded data removed]",
      "text/plain": [
       "<Figure size 432x288 with 1 Axes>"
      ]
     },
     "metadata": {
      "needs_background": "light"
     },
     "output_type": "display_data"
    }
   ],
   "source": [
    "sns.regplot(y_test,predictions)"
   ]
  },
  {
   "cell_type": "code",
   "execution_count": 69,
   "metadata": {},
   "outputs": [
    {
     "data": {
      "text/html": [
       "<div>\n",
       "<style scoped>\n",
       "    .dataframe tbody tr th:only-of-type {\n",
       "        vertical-align: middle;\n",
       "    }\n",
       "\n",
       "    .dataframe tbody tr th {\n",
       "        vertical-align: top;\n",
       "    }\n",
       "\n",
       "    .dataframe thead th {\n",
       "        text-align: right;\n",
       "    }\n",
       "</style>\n",
       "<table border=\"1\" class=\"dataframe\">\n",
       "  <thead>\n",
       "    <tr style=\"text-align: right;\">\n",
       "      <th></th>\n",
       "      <th>Valores Reais</th>\n",
       "      <th>Valores Preditos</th>\n",
       "    </tr>\n",
       "  </thead>\n",
       "  <tbody>\n",
       "    <tr>\n",
       "      <th>72</th>\n",
       "      <td>180</td>\n",
       "      <td>480.0</td>\n",
       "    </tr>\n",
       "    <tr>\n",
       "      <th>164</th>\n",
       "      <td>300</td>\n",
       "      <td>300.0</td>\n",
       "    </tr>\n",
       "    <tr>\n",
       "      <th>17</th>\n",
       "      <td>15</td>\n",
       "      <td>180.0</td>\n",
       "    </tr>\n",
       "    <tr>\n",
       "      <th>74</th>\n",
       "      <td>150</td>\n",
       "      <td>150.0</td>\n",
       "    </tr>\n",
       "    <tr>\n",
       "      <th>133</th>\n",
       "      <td>180</td>\n",
       "      <td>180.0</td>\n",
       "    </tr>\n",
       "    <tr>\n",
       "      <th>147</th>\n",
       "      <td>300</td>\n",
       "      <td>240.0</td>\n",
       "    </tr>\n",
       "    <tr>\n",
       "      <th>26</th>\n",
       "      <td>60</td>\n",
       "      <td>185.0</td>\n",
       "    </tr>\n",
       "    <tr>\n",
       "      <th>33</th>\n",
       "      <td>120</td>\n",
       "      <td>60.0</td>\n",
       "    </tr>\n",
       "    <tr>\n",
       "      <th>57</th>\n",
       "      <td>300</td>\n",
       "      <td>350.0</td>\n",
       "    </tr>\n",
       "    <tr>\n",
       "      <th>77</th>\n",
       "      <td>180</td>\n",
       "      <td>300.0</td>\n",
       "    </tr>\n",
       "  </tbody>\n",
       "</table>\n",
       "</div>"
      ],
      "text/plain": [
       "     Valores Reais  Valores Preditos\n",
       "72             180             480.0\n",
       "164            300             300.0\n",
       "17              15             180.0\n",
       "74             150             150.0\n",
       "133            180             180.0\n",
       "147            300             240.0\n",
       "26              60             185.0\n",
       "33             120              60.0\n",
       "57             300             350.0\n",
       "77             180             300.0"
      ]
     },
     "execution_count": 69,
     "metadata": {},
     "output_type": "execute_result"
    }
   ],
   "source": [
    "validacao = pd.DataFrame()\n",
    "validacao['Valores Reais'] = y_test\n",
    "validacao['Valores Preditos'] = predictions\n",
    "validacao.head(10)"
   ]
  },
  {
   "cell_type": "code",
   "execution_count": 82,
   "metadata": {},
   "outputs": [
    {
     "data": {
      "image/png": "[encoded data removed]",
      "text/plain": [
       "<Figure size 504x360 with 1 Axes>"
      ]
     },
     "metadata": {
      "needs_background": "light"
     },
     "output_type": "display_data"
    }
   ],
   "source": [
    "residuos=y_test-predictions\n",
    "fig = plt.figure(figsize=(7,5)) \n",
    "plt.scatter(predictions,residuos); \n",
    "plt.axhline(y=0, color='r', linestyle='-'); \n",
    "plt.ylabel('e: Resíduos') \n",
    "plt.xlabel('$\\hat{y}$: Valores Preditos') \n",
    "plt.title('Residuos para Regression Tree') \n",
    "plt.grid() \n",
    "plt.show()"
   ]
  },
  {
   "cell_type": "code",
   "execution_count": 83,
   "metadata": {},
   "outputs": [
    {
     "data": {
      "image/png": "[encoded data removed]",
      "text/plain": [
       "<Figure size 360x360 with 1 Axes>"
      ]
     },
     "metadata": {
      "needs_background": "light"
     },
     "output_type": "display_data"
    }
   ],
   "source": [
    "fig = plt.figure(figsize=(5,5)) \n",
    "stats.probplot(residuos,dist='norm', plot=plt);"
   ]
  },
  {
   "cell_type": "markdown",
   "metadata": {},
   "source": [
    "## Conclusão"
   ]
  },
  {
   "cell_type": "code",
   "execution_count": null,
   "metadata": {},
   "outputs": [],
   "source": []
  },
  {
   "cell_type": "markdown",
   "metadata": {},
   "source": [
    "## Referências"
   ]
  },
  {
   "cell_type": "markdown",
   "metadata": {},
   "source": [
    "[Naive Bayes and Text Classification](https://arxiv.org/pdf/1410.5329.pdf)  **Mais completo**\n",
    "\n",
    "[A practical explanation of a Naive Bayes Classifier](https://monkeylearn.com/blog/practical-explanation-naive-bayes-classifier/) **Mais simples**\n",
    "\n",
    "[Cleaning Text Data with Python](https://towardsdatascience.com/cleaning-text-data-with-python-b69b47b97b76) **Cleanup Text Function**\n",
    "\n",
    "[Laplace smoothing in Naïve Bayes algorithm](https://towardsdatascience.com/laplace-smoothing-in-na%C3%AFve-bayes-algorithm-9c237a8bdece) **Método de La Place Smoothing**\n",
    "\n",
    "[Naive Bayes Classifier From Scratch in Python](https://machinelearningmastery.com/naive-bayes-classifier-scratch-python/) **Naive Bayes Classifier from scratch**\n",
    "\n",
    "[In Depth: Naive Bayes Classification](https://jakevdp.github.io/PythonDataScienceHandbook/05.05-naive-bayes.html) **Confusion Matrix**\n",
    "\n",
    "[Better Naive Bayes: 12 Tips To Get The Most From The Naive Bayes Algorithm](https://machinelearningmastery.com/better-naive-bayes/) **How to improve Naive Bayes**\n",
    "\n",
    "[How to Improve Naive Bayes Classification Performance?](https://www.baeldung.com/cs/naive-bayes-classification-performance) **How to improve Naive Bayes performance**"
   ]
  }
 ],
 "metadata": {
  "kernelspec": {
   "display_name": "Python 3",
   "language": "python",
   "name": "python3"
  },
  "language_info": {
   "codemirror_mode": {
    "name": "ipython",
    "version": 3
   },
   "file_extension": ".py",
   "mimetype": "text/x-python",
   "name": "python",
   "nbconvert_exporter": "python",
   "pygments_lexer": "ipython3",
   "version": "3.8.5"
  }
 },
 "nbformat": 4,
 "nbformat_minor": 2
}
